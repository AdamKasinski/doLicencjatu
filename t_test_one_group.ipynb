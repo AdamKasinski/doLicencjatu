{
 "cells": [
  {
   "cell_type": "code",
   "execution_count": 1,
   "metadata": {},
   "outputs": [],
   "source": [
    "import pandas as pd\n",
    "import numpy as np\n",
    "import matplotlib.pyplot as plt\n",
    "import seaborn as sns\n",
    "import statsmodels.formula.api as smf\n",
    "import statsmodels.stats.api as sms\n",
    "import statsmodels.stats.power as smp\n",
    "import scipy.stats\n",
    "from scipy.stats import t, norm, ttest_ind, ttest_rel, ttest_1samp\n",
    "import decimal\n",
    "import random\n",
    "#decimal.getcontext().prec = 4\n",
    "%matplotlib inline"
   ]
  },
  {
   "cell_type": "code",
   "execution_count": 2,
   "metadata": {},
   "outputs": [],
   "source": [
    "def get_normal_sample(n,mean,sd):\n",
    "    return np.random.normal(loc=mean,scale=sd,size=n)"
   ]
  },
  {
   "cell_type": "code",
   "execution_count": 27,
   "metadata": {},
   "outputs": [],
   "source": [
    "def conf_int_one_sample(x,alfa,alternative = 'two-tailed',diff=0):\n",
    "    '''\n",
    "    alternative == 'two-tailed','left','right'\n",
    "    '''\n",
    "    mean = np.mean(x)\n",
    "    se = np.std(x,ddof=1)/np.sqrt(len(x))\n",
    "    if alternative == 'two-tailed':\n",
    "        return mean - diff - t.ppf(1-alfa/2,df=len(x)-1)*se,mean + diff + t.ppf(1-alfa/2,df=len(x)-1)*se\n",
    "    elif alternative == 'left':\n",
    "        return mean + diff - t.ppf(1-alfa,df=len(x)-1)*se\n",
    "    elif alternative == 'right':\n",
    "        return mean + diff + t.ppf(1-alfa,df=len(x)-1)*se\n",
    "    else:\n",
    "        print('wrong value')"
   ]
  },
  {
   "cell_type": "code",
   "execution_count": 4,
   "metadata": {},
   "outputs": [],
   "source": [
    "def t_test_for_one_group(x,pop_mean,diff=0,alternative='two-tailed'):\n",
    "    n = len(x)\n",
    "    sd = np.std(x,ddof=1)\n",
    "    se = sd/np.sqrt(n)\n",
    "    if diff == 0:\n",
    "        ts = (np.mean(x) - pop_mean)/se\n",
    "    else:\n",
    "        ts = (np.mean(x) - pop_mean - diff)/se\n",
    "    df = n-1\n",
    "    if alternative == \"two-tailed\":\n",
    "        p_val = t.sf(np.abs(ts),df)*2\n",
    "        #p_val = 2 * t.cdf(-abs(ts), df)\n",
    "    elif alternative == \"lesser\":\n",
    "        p_val = t.cdf(ts, df)\n",
    "    elif alternative == \"greater\":\n",
    "        p_val = 1-t.cdf(ts, df)\n",
    "    return p_val"
   ]
  },
  {
   "cell_type": "code",
   "execution_count": 5,
   "metadata": {},
   "outputs": [],
   "source": [
    "def one_sample_conf_comparison(pop_mean,smpl_mean,diff): # patrzy na przedział ufności \n",
    "    podsumowanie = []\n",
    "   \n",
    "    for j in range(100):\n",
    "        samples_downs = []\n",
    "        sample = get_normal_sample(40,smpl_mean,4)\n",
    "        for k in range(1,501):\n",
    "            k =k*0.001\n",
    "            down = conf_int_one_sample(sample,k,'left')\n",
    "            samples_downs.append(down)\n",
    "\n",
    "        g1 = np.array(samples_downs) - pop_mean\n",
    "        sample_mean = smpl_mean - pop_mean\n",
    "        cent_diff = diff - pop_mean\n",
    "        \n",
    "        diff_01 = len([i for i in g1 if i>0 and sample_mean>0])\n",
    "        diff_non_01 = len([i for i in g1 if i>cent_diff and sample_mean>cent_diff])\n",
    "\n",
    "        diff_02 = len([i for i in g1 if i<=0 and sample_mean<=0])\n",
    "        diff_non_02 = len([i for i in g1 if i<=cent_diff and sample_mean<=cent_diff])\n",
    "\n",
    "        diff_03 = len([i for i in g1 if i<=0 and sample_mean>0])\n",
    "        diff_non_03 = len([i for i in g1 if i<=cent_diff and sample_mean>cent_diff])\n",
    "\n",
    "        diff_04 = len([i for i in g1 if i>0 and sample_mean<=0])\n",
    "        diff_non_04 = len([i for i in g1 if i>cent_diff and sample_mean<=cent_diff])\n",
    "\n",
    "        podsumowanie.append([diff_01,diff_non_01,diff_02,diff_non_02,diff_03,diff_non_03,diff_04,diff_non_04])\n",
    "\n",
    "    ile_wszystkich = sum([sum(i) for i in podsumowanie])/2\n",
    "\n",
    "    for i in range(len(podsumowanie)):\n",
    "        pop_dobrze = sum([i[0] for i in podsumowanie])\n",
    "        nwd_dobrze = sum([i[2] for i in podsumowanie])\n",
    "        nwd_zle = sum([i[4] for i in podsumowanie])\n",
    "        pop_zle = sum([i[6] for i in podsumowanie])\n",
    "        alt_pop_dobrze = sum([i[1] for i in podsumowanie])\n",
    "        alt_nwd_dobrze = sum([i[3] for i in podsumowanie])\n",
    "        alt_nwd_zle = sum([i[5] for i in podsumowanie])\n",
    "        alt_pop_zle = sum([i[7] for i in podsumowanie])\n",
    "\n",
    "    print('test, ocena testu')\n",
    "\n",
    "    print('pozytywny, dobrze', '\\n' , 'dla klasycznego: ', pop_dobrze,'\\n', 'dla alternatywnego: ', alt_pop_dobrze,' ')\n",
    "\n",
    "    print('\\n','pozytywny, źle', '\\n' , 'dla klasycznego: ', pop_zle,'\\n', 'dla alternatywnego: ', alt_pop_zle)\n",
    "\n",
    "    print('\\n','nie wiadomo, dobrze', '\\n' , 'dla klasycznego: ', nwd_dobrze,'\\n', 'dla alternatywnego: ', alt_nwd_dobrze)\n",
    "\n",
    "    print('\\n','nie wiadomo, źle', '\\n' , 'dla klasycznego: ', nwd_zle,'\\n', 'dla alternatywnego: ', alt_nwd_zle)\n",
    "\n",
    "    print('\\n','poprawnie', '\\n' , 'dla klasycznego: ', (pop_dobrze+nwd_dobrze)/ile_wszystkich ,'\\n', 'dla alternatywnego: ', (alt_pop_dobrze+alt_nwd_dobrze)/ile_wszystkich)\n",
    "\n",
    "    #return (pop_dobrze+nwd_dobrze)/ile_wszystkich, (alt_pop_dobrze+alt_nwd_dobrze)/ile_wszystkich\n"
   ]
  },
  {
   "cell_type": "code",
   "execution_count": 6,
   "metadata": {},
   "outputs": [],
   "source": [
    "def one_sample_ttest_comparison(sample_mean,pop_mean,diff,alfa):\n",
    "    #p_p   = 0  #test_rzeczywistość\n",
    "    #m_m   = 0\n",
    "    #p_m   = 0\n",
    "    #m_p   = 0\n",
    "    #a_p_p = 0\n",
    "    #a_m_m = 0\n",
    "    #a_p_m = 0\n",
    "    #a_m_p = 0\n",
    "    for i in range(100):\n",
    "        sample = get_normal_sample(40,sample_mean,4)\n",
    "        \n",
    "        stand = t_test_for_one_group(sample,pop_mean,alternative='greater')\n",
    "        alt = t_test_for_one_group(sample,pop_mean,diff,'greater')\n",
    "        if sample_mean > pop_mean:\n",
    "            if stand < alfa:\n",
    "                p_p+=1\n",
    "            else:\n",
    "                m_p +=1\n",
    "            if alt < alfa:\n",
    "                a_p_p+=1\n",
    "            else:\n",
    "                a_m_p +=1\n",
    "        else:\n",
    "            if stand < alfa:\n",
    "                m_m+=1\n",
    "            else:\n",
    "                p_m +=1\n",
    "            if alt < alfa:\n",
    "                a_m_m+=1\n",
    "            else:\n",
    "                a_p_m +=1\n",
    "        #p_values.append([stand,alt])\n",
    "        #p_values.append([t_test_for_one_group(sample,pop_mean,'greater'),t_test_for_one_group(sample,pop_mean,diff,'greater')])\n",
    "    #return p_p, m_m, p_m, m_p, a_p_p, a_m_m, a_p_m, a_m_p"
   ]
  },
  {
   "cell_type": "code",
   "execution_count": 7,
   "metadata": {},
   "outputs": [
    {
     "name": "stdout",
     "output_type": "stream",
     "text": [
      "test, rzeczywistość \n",
      " p_p  8717 \n",
      " m_m  0 \n",
      " a_p_p  0 \n",
      " a_m_m  4 \n",
      " p_m  0 \n",
      " m_p  1283 \n",
      " a_p_m  9996 \n",
      " a_m_p  0 \n",
      " correct:  0.8717 \n",
      " correct alt:  0.0004\n",
      "test, rzeczywistość \n",
      " p_p  9998 \n",
      " m_m  0 \n",
      " a_p_p  44 \n",
      " a_m_m  0 \n",
      " p_m  0 \n",
      " m_p  2 \n",
      " a_p_m  0 \n",
      " a_m_p  9956 \n",
      " correct:  0.9998 \n",
      " correct alt:  0.0044\n",
      "test, rzeczywistość \n",
      " p_p  10000 \n",
      " m_m  0 \n",
      " a_p_p  91 \n",
      " a_m_m  0 \n",
      " p_m  0 \n",
      " m_p  0 \n",
      " a_p_m  0 \n",
      " a_m_p  9909 \n",
      " correct:  1.0 \n",
      " correct alt:  0.0091\n",
      "test, rzeczywistość \n",
      " p_p  8700 \n",
      " m_m  0 \n",
      " a_p_p  0 \n",
      " a_m_m  2 \n",
      " p_m  0 \n",
      " m_p  1300 \n",
      " a_p_m  9998 \n",
      " a_m_p  0 \n",
      " correct:  0.87 \n",
      " correct alt:  0.0002\n",
      "test, rzeczywistość \n",
      " p_p  9880 \n",
      " m_m  0 \n",
      " a_p_p  0 \n",
      " a_m_m  0 \n",
      " p_m  0 \n",
      " m_p  120 \n",
      " a_p_m  10000 \n",
      " a_m_p  0 \n",
      " correct:  0.988 \n",
      " correct alt:  0.0\n"
     ]
    }
   ],
   "source": [
    "samplemean = [11,13,15,11,14]\n",
    "popmean = [10,10,10,10,12]\n",
    "diff_list = [12,12,12,12,16]\n",
    "for k in range(5):\n",
    "    p_p   = 0\n",
    "    m_m   = 0\n",
    "    p_m   = 0\n",
    "    m_p   = 0\n",
    "    a_p_p = 0\n",
    "    a_m_m = 0\n",
    "    a_p_m = 0\n",
    "    a_m_p = 0\n",
    "    sample_mean = samplemean[k] \n",
    "    pop_mean = popmean[k]\n",
    "    diff = diff_list[k]\n",
    "    for alfa in range(1,101):\n",
    "        alfa = alfa*0.01\n",
    "        for i in range(1,101):\n",
    "            sample = get_normal_sample(40,sample_mean,4)\n",
    "            stand = t_test_for_one_group(sample,pop_mean,diff=0,alternative='greater')\n",
    "            alt = t_test_for_one_group(sample,pop_mean,diff,'greater')\n",
    "            if sample_mean > pop_mean:\n",
    "                if stand < alfa:\n",
    "                    p_p+=1\n",
    "                elif stand >= alfa:\n",
    "                    m_p +=1\n",
    "            else:\n",
    "                if stand < alfa:\n",
    "                    m_m+=1\n",
    "                else:\n",
    "                    p_m +=1\n",
    "\n",
    "            if sample_mean > diff:\n",
    "                if alt < alfa:\n",
    "                    a_p_p+=1\n",
    "                elif alt >= alfa:\n",
    "                    a_m_p +=1\n",
    "            else:\n",
    "                if alt < alfa:\n",
    "                    a_m_m+=1\n",
    "                else:\n",
    "                    a_p_m +=1\n",
    "\n",
    "    print('test, rzeczywistość','\\n',\n",
    "          'p_p ', p_p, '\\n',  \n",
    "          'm_m ',m_m,  '\\n',  \n",
    "          'a_p_p ',a_p_p,'\\n',\n",
    "          'a_m_m ',a_m_m,'\\n',    \n",
    "          'p_m ',p_m,  '\\n',  \n",
    "          'm_p ',m_p,  '\\n',  \n",
    "          'a_p_m ',a_p_m,'\\n',\n",
    "          'a_m_p ',a_m_p,'\\n',\n",
    "          'correct: ', (p_p+m_m)/(p_p+m_m+p_m+m_p),'\\n',\n",
    "          'correct alt: ', (a_p_p+a_m_m)/(a_p_p+a_m_m+a_p_m+a_m_p))"
   ]
  },
  {
   "cell_type": "code",
   "execution_count": 8,
   "metadata": {},
   "outputs": [
    {
     "name": "stdout",
     "output_type": "stream",
     "text": [
      "p-cor:  0.0\n",
      "n-cor:  99.7\n",
      "1t-er:  0.3\n",
      "2t-er:  0.0\n"
     ]
    }
   ],
   "source": [
    "def podejscie1(pop_mean,sample_size,sample_mean,diff=0):\n",
    "    sample = get_normal_sample(sample_size,sample_mean,4)\n",
    "    mean = np.mean(sample)\n",
    "    if mean > pop_mean+diff and sample_mean > pop_mean+diff:\n",
    "        return 'p-cor'\n",
    "    elif mean > pop_mean+diff and sample_mean <= pop_mean+diff:\n",
    "        return '1t-er'\n",
    "    elif mean <= pop_mean+diff and sample_mean <= pop_mean+diff:\n",
    "        return 'n-cor'\n",
    "    elif mean <= pop_mean+diff and sample_mean > pop_mean+diff:\n",
    "        return '2t-er'\n",
    "results = []\n",
    "#for j in range(10):\n",
    "for i in range(1000):\n",
    "        results.append(podejscie1(10,30,15,7))\n",
    "print('p-cor: ',(results.count('p-cor')/len(results))*100)\n",
    "print('n-cor: ',(results.count('n-cor')/len(results))*100)\n",
    "print('1t-er: ',(results.count('1t-er')/len(results))*100)\n",
    "print('2t-er: ',(results.count('2t-er')/len(results))*100)"
   ]
  },
  {
   "cell_type": "code",
   "execution_count": 9,
   "metadata": {},
   "outputs": [
    {
     "name": "stdout",
     "output_type": "stream",
     "text": [
      "p-cor:  0.0\n",
      "n-cor:  0.0\n",
      "1t-er:  100.0\n",
      "2t-er:  0.0\n"
     ]
    }
   ],
   "source": [
    "def podejscie2(pop_mean,sample_size,sample_mean,alfa,diff=0):\n",
    "    sample = get_normal_sample(sample_size,sample_mean,4)\n",
    "    result = t_test_for_one_group(sample,pop_mean,alternative='greater')\n",
    "    \n",
    "    if result < alfa and sample_mean > pop_mean+diff:\n",
    "        return 'p-cor'\n",
    "    elif result < alfa and sample_mean <= pop_mean+diff:\n",
    "        return '1t-er'\n",
    "    elif result >= alfa and sample_mean <= pop_mean+diff:\n",
    "        return 'n-cor'\n",
    "    elif result > alfa and sample_mean > pop_mean+diff:\n",
    "        return '2t-er'\n",
    "results = []\n",
    "#for j in range(10):\n",
    "for i in range(1000):\n",
    "    results.append(podejscie2(10,30,15,0.05,7))\n",
    "print('p-cor: ',(results.count('p-cor')/len(results))*100)\n",
    "print('n-cor: ',(results.count('n-cor')/len(results))*100)\n",
    "print('1t-er: ',(results.count('1t-er')/len(results))*100)\n",
    "print('2t-er: ',(results.count('2t-er')/len(results))*100)"
   ]
  },
  {
   "cell_type": "code",
   "execution_count": 10,
   "metadata": {},
   "outputs": [
    {
     "name": "stdout",
     "output_type": "stream",
     "text": [
      "p-cor:  0.0\n",
      "n-cor:  100.0\n",
      "1t-er:  0.0\n",
      "2t-er:  0.0\n"
     ]
    }
   ],
   "source": [
    "def podejscie3(pop_mean,sample_size,sample_mean,alfa,diff=0):\n",
    "    sample = get_normal_sample(sample_size,sample_mean,4)\n",
    "    result = t_test_for_one_group(sample,pop_mean,diff=diff,alternative='greater')\n",
    "    \n",
    "    if result < alfa and sample_mean > pop_mean+diff:\n",
    "        return 'p-cor'\n",
    "    elif result < alfa and sample_mean <= pop_mean+diff:\n",
    "        return '1t-er'\n",
    "    elif result >= alfa and sample_mean <= pop_mean+diff:\n",
    "        return 'n-cor'\n",
    "    elif result > alfa and sample_mean > pop_mean+diff:\n",
    "        return '2t-er'\n",
    "results = []\n",
    "#for j in range(10):\n",
    "for i in range(1000):\n",
    "    results.append(podejscie3(10,30,15,0.05,7))\n",
    "print('p-cor: ',(results.count('p-cor')/len(results))*100)\n",
    "print('n-cor: ',(results.count('n-cor')/len(results))*100)\n",
    "print('1t-er: ',(results.count('1t-er')/len(results))*100)\n",
    "print('2t-er: ',(results.count('2t-er')/len(results))*100)"
   ]
  },
  {
   "cell_type": "code",
   "execution_count": 11,
   "metadata": {},
   "outputs": [],
   "source": [
    "def podejście_2_power(pop_mean,sample_size,sample_mean,diff):\n",
    "    results = []\n",
    "    powers = []\n",
    "    alfas = []\n",
    "    for j in range(1000):\n",
    "        alfa = j*0.001\n",
    "        #for i in range(1000):\n",
    "        alfas.append(alfa)\n",
    "        results.append(podejscie2(0,30,5,alfa,diff=diff))\n",
    "        powers.append(smp.ttest_power(effect_size = diff/2, \n",
    "                                      nobs = sample_size,\n",
    "                                      alpha=alfa,\n",
    "                                      alternative ='larger'))\n",
    "        #powers.append(smp.TTestIndPower().solve_power(effect_size = (np.abs(pop_mean-sample_mean))/np.std(2,ddof=1), \n",
    "                                                      #nobs = sample_size,\n",
    "                                                      #alpha=alfa,\n",
    "                                                      #alternative ='larger'))\n",
    "    #fig, (ax1, ax2) = plt.subplots(2, sharex=True)\n",
    "    #ax2.scatter(alfas,powers)\n",
    "    #ax1.scatter(alfas,results)\n",
    "    print(np.median(powers))"
   ]
  },
  {
   "cell_type": "code",
   "execution_count": 12,
   "metadata": {},
   "outputs": [
    {
     "name": "stdout",
     "output_type": "stream",
     "text": [
      "0.9999999783976847\n"
     ]
    }
   ],
   "source": [
    "podejście_2_power(10,30,14,2)"
   ]
  },
  {
   "cell_type": "code",
   "execution_count": 13,
   "metadata": {},
   "outputs": [],
   "source": [
    "def podejście_3_power(pop_mean,sample_size,sample_mean,diff):\n",
    "    results = []\n",
    "    powers = []\n",
    "    alfas = []\n",
    "    for j in range(1000):\n",
    "        alfa = j*0.001\n",
    "        #for i in range(1000):\n",
    "        alfas.append(alfa)\n",
    "        results.append(podejscie3(0,30,5,alfa,diff=diff))\n",
    "        powers.append(smp.ttest_power(effect_size = diff/2, \n",
    "                                      nobs = sample_size,\n",
    "                                      alpha=alfa,\n",
    "                                      alternative ='larger'))\n",
    "        #powers.append(smp.TTestIndPower().solve_power(effect_size = (np.abs(pop_mean-sample_mean))/np.std(2,ddof=1), \n",
    "                                                      #nobs = sample_size,\n",
    "                                                      #alpha=alfa,\n",
    "                                                      #alternative ='larger'))\n",
    "    #fig, (ax1, ax2) = plt.subplots(2, sharex=True)\n",
    "    #x2.scatter(alfas,powers)\n",
    "    #ax1.scatter(alfas,results)\n",
    "    print(np.median(powers))"
   ]
  },
  {
   "cell_type": "code",
   "execution_count": 14,
   "metadata": {},
   "outputs": [
    {
     "name": "stdout",
     "output_type": "stream",
     "text": [
      "1.0\n",
      "1.0\n"
     ]
    }
   ],
   "source": [
    "podejście_3_power(10,40,14,3)\n",
    "podejście_2_power(10,40,14,3)"
   ]
  },
  {
   "cell_type": "code",
   "execution_count": 15,
   "metadata": {},
   "outputs": [
    {
     "name": "stdout",
     "output_type": "stream",
     "text": [
      "0\n",
      "506\n",
      "494\n",
      "0\n"
     ]
    }
   ],
   "source": [
    "results = []\n",
    "for j in range(1000):\n",
    "    alfa = j*0.001\n",
    "    #for i in range(1000):\n",
    "    results.append(podejscie3(10,40,14,alfa=alfa,diff=4))\n",
    "print(results.count('p-cor'))\n",
    "print(results.count('n-cor'))\n",
    "print(results.count('1t-er'))\n",
    "print(results.count('2t-er'))\n"
   ]
  },
  {
   "cell_type": "code",
   "execution_count": 16,
   "metadata": {},
   "outputs": [
    {
     "name": "stdout",
     "output_type": "stream",
     "text": [
      "0\n",
      "1\n",
      "999\n",
      "0\n"
     ]
    }
   ],
   "source": [
    "results = []\n",
    "for j in range(1000):\n",
    "    alfa = j*0.001\n",
    "    #for i in range(1000):\n",
    "    results.append(podejscie2(10,40,14,alfa=alfa,diff=4))\n",
    "print(results.count('p-cor'))\n",
    "print(results.count('n-cor'))\n",
    "print(results.count('1t-er'))\n",
    "print(results.count('2t-er'))\n"
   ]
  },
  {
   "cell_type": "code",
   "execution_count": 17,
   "metadata": {},
   "outputs": [],
   "source": [
    "def pods_1(sample,pop_mean,diff=0):\n",
    "    sample_size = np.size(sample)\n",
    "    sample_mean = np.mean(sample)\n",
    "    sample = get_normal_sample(sample_size,sample_mean,4)\n",
    "    mean = np.mean(sample)\n",
    "    if mean > pop_mean+diff and sample_mean > pop_mean+diff:\n",
    "        return 'cor'\n",
    "    elif mean > pop_mean+diff and sample_mean <= pop_mean+diff:\n",
    "        return '1t-er'\n",
    "    elif mean <= pop_mean+diff and sample_mean <= pop_mean+diff:\n",
    "        return 'cor'\n",
    "    elif mean <= pop_mean+diff and sample_mean > pop_mean+diff:\n",
    "        return '2t-er'\n",
    "    \n",
    "def pods_2(sample,pop_mean,alfa,diff=0):\n",
    "    sample_size = np.size(sample)\n",
    "    sample_mean = np.mean(sample)\n",
    "    result = t_test_for_one_group(sample,pop_mean,alternative='greater')\n",
    "    \n",
    "    if result < alfa and sample_mean > pop_mean+diff:\n",
    "        return 'cor'\n",
    "    elif result < alfa and sample_mean <= pop_mean+diff:\n",
    "        return '1t-er'\n",
    "    elif result >= alfa and sample_mean <= pop_mean+diff:\n",
    "        return 'cor'\n",
    "    elif result > alfa and sample_mean > pop_mean+diff:\n",
    "        return '2t-er'\n",
    "\n",
    "def pods_3(sample,pop_mean,alfa,diff=0):\n",
    "    sample_size = np.size(sample)\n",
    "    sample_mean = np.mean(sample)\n",
    "    result = t_test_for_one_group(sample,pop_mean,diff=diff,alternative='greater')\n",
    "    \n",
    "    if result < alfa and sample_mean > pop_mean+diff:\n",
    "        return 'cor'\n",
    "    elif result < alfa and sample_mean <= pop_mean+diff:\n",
    "        return '1t-er'\n",
    "    elif result >= alfa and sample_mean <= pop_mean+diff:\n",
    "        return 'cor'\n",
    "    elif result > alfa and sample_mean > pop_mean+diff:\n",
    "        return '2t-er'\n",
    "rslts_1 = []\n",
    "rslts_2 = []\n",
    "rslts_3 = []\n",
    "diffs = []\n",
    "\n",
    "for i in range(1000):\n",
    "    diff = i*0.01\n",
    "    lst_1 = []\n",
    "    lst_2 = []\n",
    "    lst_3 = []\n",
    "    for j in range(100):\n",
    "        sample = get_normal_sample(50,14,4)\n",
    "        lst_1.append(pods_1(sample,10,diff))\n",
    "        lst_2.append(pods_2(sample,10,0.01,diff))\n",
    "        lst_3.append(pods_3(sample,10,0.01,diff))\n",
    "    #rslts_2.append(pods_2(sample,10,0.01,diff))\n",
    "    #rslts_3.append(pods_3(sample,10,0.01,diff))\n",
    "    rslts_1.append(lst_1.count('cor'))\n",
    "    rslts_2.append(lst_2.count('cor'))\n",
    "    rslts_3.append(lst_3.count('cor'))\n",
    "    diffs.append(diff)\n",
    "#fig, (ax1, ax2) = plt.subplots(2, sharex=True)\n",
    "#ax1.scatter(diffs,rslts_2)\n",
    "#ax2.scatter(diffs,rslts_3)\n",
    "#ax1.set_title('podejście_2')\n",
    "#ax2.set_title('podejście_3')\n",
    "#ax1.set_xlab('δ')\n",
    "#ax.set_ylab('ilość testów zwracających prawidłową odpowiedź')"
   ]
  },
  {
   "cell_type": "code",
   "execution_count": 18,
   "metadata": {},
   "outputs": [
    {
     "data": {
      "text/plain": [
       "Text(0.5, 0, 'Ilość poprawnych odpowiedzi (maksymalnie 100) w zależności od pożądanej wielkości efektu. Populacja z której losowano próbę miała średnią 14, a porównywano do wartości 10.\\nPierwszy wykres przedstawia podejście 1, drugi podejście 2,a ostatni podejście 3')"
      ]
     },
     "execution_count": 18,
     "metadata": {},
     "output_type": "execute_result"
    },
    {
     "data": {
      "image/png": "[encoded data removed]",
      "text/plain": [
       "<Figure size 432x288 with 3 Axes>"
      ]
     },
     "metadata": {
      "needs_background": "light"
     },
     "output_type": "display_data"
    }
   ],
   "source": [
    "fig, (ax1, ax2, ax3) = plt.subplots(3, sharex=True)\n",
    "ax1.scatter(diffs,rslts_1)\n",
    "ax2.scatter(diffs,rslts_2)\n",
    "ax3.scatter(diffs,rslts_3)\n",
    "#ax1.set_title('podejście_2')\n",
    "#ax2.set_title('podejście_3')\n",
    "ax1.set_xlabel('δ')\n",
    "ax1.set_ylabel('ilość testów zwracających prawidłową odpowiedź')\n",
    "ax3.set_xlabel('Ilość poprawnych odpowiedzi (maksymalnie 100) w zależności od pożądanej wielkości efektu. Populacja z której losowano próbę miała średnią 14, a porównywano do wartości 10.'+'\\n'+\n",
    "               'Pierwszy wykres przedstawia podejście 1, drugi podejście 2,a ostatni podejście 3')"
   ]
  },
  {
   "cell_type": "code",
   "execution_count": 19,
   "metadata": {},
   "outputs": [
    {
     "data": {
      "text/plain": [
       "(array([1., 0., 0., 0., 0., 1., 0., 0., 0., 0., 0., 1., 0., 0., 0., 0., 0.,\n",
       "        1., 0., 0., 0., 0., 0., 0., 0., 3., 0., 0., 0., 0., 0., 0., 2., 0.,\n",
       "        0., 0., 0., 0., 0., 1.]),\n",
       " array([0.00908787, 0.03325226, 0.05741665, 0.08158104, 0.10574542,\n",
       "        0.12990981, 0.1540742 , 0.17823858, 0.20240297, 0.22656736,\n",
       "        0.25073175, 0.27489613, 0.29906052, 0.32322491, 0.34738929,\n",
       "        0.37155368, 0.39571807, 0.41988246, 0.44404684, 0.46821123,\n",
       "        0.49237562, 0.51654001, 0.54070439, 0.56486878, 0.58903317,\n",
       "        0.61319755, 0.63736194, 0.66152633, 0.68569072, 0.7098551 ,\n",
       "        0.73401949, 0.75818388, 0.78234826, 0.80651265, 0.83067704,\n",
       "        0.85484143, 0.87900581, 0.9031702 , 0.92733459, 0.95149897,\n",
       "        0.97566336]),\n",
       " <a list of 40 Patch objects>)"
      ]
     },
     "execution_count": 19,
     "metadata": {},
     "output_type": "execute_result"
    },
    {
     "data": {
      "image/png": "[encoded data removed]",
      "text/plain": [
       "<Figure size 432x288 with 1 Axes>"
      ]
     },
     "metadata": {
      "needs_background": "light"
     },
     "output_type": "display_data"
    }
   ],
   "source": [
    "rslts = []\n",
    "for i in range(10):\n",
    "    rslts.append(ttest_1samp(get_normal_sample(50,10+i*0.001,4),popmean=10)[1])\n",
    "rslts.sort(reverse=True)\n",
    "plt.hist(rslts,bins=40)"
   ]
  },
  {
   "cell_type": "code",
   "execution_count": 20,
   "metadata": {},
   "outputs": [
    {
     "name": "stdout",
     "output_type": "stream",
     "text": [
      "615\n",
      "0\n",
      "0\n",
      "385\n"
     ]
    }
   ],
   "source": [
    "def dejscie2(pop_mean,sample_size,sample_mean,alfa,diff=0):\n",
    "    sample = get_normal_sample(sample_size,sample_mean,4)\n",
    "    result = t_test_for_one_group(sample,pop_mean,alternative='greater')\n",
    "    \n",
    "    if result < alfa and sample_mean > pop_mean+diff:\n",
    "        return 'p-cor'\n",
    "    elif result < alfa and sample_mean <= pop_mean+diff:\n",
    "        return '1t-er'\n",
    "    elif result >= alfa and sample_mean <= pop_mean+diff:\n",
    "        return 'n-cor'\n",
    "    elif result > alfa and sample_mean > pop_mean+diff:\n",
    "        return '2t-er'\n",
    "results = []\n",
    "alfa = 0.01\n",
    "for i in range(1000):\n",
    "    results.append(dejscie2(0,30,2,alfa,diff=0))\n",
    "print(results.count('p-cor'))\n",
    "print(results.count('n-cor'))\n",
    "print(results.count('1t-er'))\n",
    "print(results.count('2t-er'))"
   ]
  },
  {
   "cell_type": "code",
   "execution_count": 21,
   "metadata": {},
   "outputs": [
    {
     "name": "stdout",
     "output_type": "stream",
     "text": [
      "613\n",
      "0\n",
      "0\n",
      "387\n"
     ]
    }
   ],
   "source": [
    "results = []\n",
    "alfa = 0.01\n",
    "for i in range(1000):\n",
    "    results.append(podejscie3(0,30,5,alfa,diff=3))\n",
    "print(results.count('p-cor'))\n",
    "print(results.count('n-cor'))\n",
    "print(results.count('1t-er'))\n",
    "print(results.count('2t-er'))"
   ]
  },
  {
   "cell_type": "code",
   "execution_count": 22,
   "metadata": {},
   "outputs": [
    {
     "data": {
      "text/plain": [
       "<matplotlib.lines.Line2D at 0x2d7dac09370>"
      ]
     },
     "execution_count": 22,
     "metadata": {},
     "output_type": "execute_result"
    },
    {
     "data": {
      "image/png": "[encoded data removed]",
      "text/plain": [
       "<Figure size 432x288 with 1 Axes>"
      ]
     },
     "metadata": {
      "needs_background": "light"
     },
     "output_type": "display_data"
    }
   ],
   "source": [
    "alfas = []\n",
    "cis_0 = []\n",
    "cis_1 = []\n",
    "for i in range(1,100):\n",
    "    x = get_normal_sample(30,13,4)\n",
    "    alfa = i*0.01\n",
    "    alfas.append(alfa)\n",
    "    cis_0.append(conf_int_one_sample(x,alfa)[0])\n",
    "    cis_1.append(conf_int_one_sample(x,alfa)[1])\n",
    "fig = plt.figure()\n",
    "ax = fig.add_subplot(1,1,1)\n",
    "ax.axis([10,15,0,1])\n",
    "for i in range(len(alfas)):\n",
    "    ax.plot([cis_0[i],cis_1[i]],[alfas[i],alfas[i]])\n",
    "ax.axvline(x=13)\n"
   ]
  },
  {
   "cell_type": "code",
   "execution_count": 23,
   "metadata": {},
   "outputs": [
    {
     "data": {
      "text/plain": [
       "<matplotlib.lines.Line2D at 0x2d7daf73d60>"
      ]
     },
     "execution_count": 23,
     "metadata": {},
     "output_type": "execute_result"
    },
    {
     "data": {
      "image/png": "[encoded data removed]",
      "text/plain": [
       "<Figure size 432x288 with 2 Axes>"
      ]
     },
     "metadata": {
      "needs_background": "light"
     },
     "output_type": "display_data"
    }
   ],
   "source": [
    "#a = conf_int_one_sample(x,0.1)\n",
    "\n",
    "alfas = []\n",
    "cis_0 = []\n",
    "cis_1 = []\n",
    "cis_0_pod3 = []\n",
    "cis_1_pod3 = []\n",
    "\n",
    "diff = 2\n",
    "mean = 13\n",
    "pop_mean = 10\n",
    "for i in range(1,100):\n",
    "    x = get_normal_sample(30,mean,4)\n",
    "    alfa = i*0.01\n",
    "    alfas.append(alfa)\n",
    "    cis_0.append(conf_int_one_sample(x,alfa)[0])\n",
    "    cis_1.append(conf_int_one_sample(x,alfa)[1])\n",
    "    cis_0_pod3.append(conf_int_one_sample(x,alfa,diff=diff)[0])\n",
    "    cis_1_pod3.append(conf_int_one_sample(x,alfa,diff=diff)[1])\n",
    "fig, (ax1, ax2) = plt.subplots(2, sharex=True)\n",
    "#fig = plt.figure()\n",
    "#ax = fig.add_subplot(1,1,1)\n",
    "#ax.axis([9,16,0,1])\n",
    "ax1.set_title('podejście2')\n",
    "ax2.set_title('podejście3')\n",
    "reds = 0\n",
    "blues = 0\n",
    "for i in range(len(alfas)):\n",
    "    if cis_0[i] > pop_mean + diff:\n",
    "        ax1.plot([cis_0[i],cis_1[i]],[alfas[i],alfas[i]],color = 'red')\n",
    "    elif cis_0[i] > pop_mean and cis_0[i] < mean+diff:\n",
    "        ax1.plot([cis_0[i],cis_1[i]],[alfas[i],alfas[i]],color = 'blue')\n",
    "    else:\n",
    "        ax1.plot([cis_0[i],cis_1[i]],[alfas[i],alfas[i]],color = 'yellow')\n",
    "    if cis_0_pod3[i] > pop_mean + diff:\n",
    "        ax2.plot([cis_0_pod3[i],cis_1_pod3[i]],[alfas[i],alfas[i]],color = 'red')\n",
    "    elif cis_0_pod3[i] > pop_mean and cis_0[i] < mean+diff:\n",
    "        ax2.plot([cis_0_pod3[i],cis_1_pod3[i]],[alfas[i],alfas[i]],color = 'blue')\n",
    "    else:\n",
    "        ax2.plot([cis_0[i],cis_1[i]],[alfas[i],alfas[i]],color = 'yellow')\n",
    "ax1.axvline(x=pop_mean, color = 'black')\n",
    "ax1.axvline(x=pop_mean+diff, color = 'orange')\n",
    "ax1.axvline(x=mean, color = 'brown')\n",
    "ax2.axvline(x=pop_mean, color = 'black')\n",
    "ax2.axvline(x=pop_mean+diff, color = 'orange')\n",
    "ax2.axvline(x=mean, color = 'brown')\n"
   ]
  },
  {
   "cell_type": "code",
   "execution_count": 30,
   "metadata": {},
   "outputs": [
    {
     "data": {
      "text/plain": [
       "Text(0, 0.5, 'wartość alfa')"
      ]
     },
     "execution_count": 30,
     "metadata": {},
     "output_type": "execute_result"
    },
    {
     "data": {
      "image/png": "[encoded data removed]",
      "text/plain": [
       "<Figure size 432x288 with 3 Axes>"
      ]
     },
     "metadata": {
      "needs_background": "light"
     },
     "output_type": "display_data"
    }
   ],
   "source": [
    "#a = conf_int_one_sample(x,0.1)\n",
    "\n",
    "alfas = []\n",
    "cis_0 = []\n",
    "cis_0_pod3 = []\n",
    "cis_0_pod1 = []\n",
    "\n",
    "diff = 4\n",
    "mean = 12\n",
    "pop_mean = 10\n",
    "for i in range(1,100):\n",
    "    x = get_normal_sample(30,mean,4)\n",
    "    alfa = i*0.01\n",
    "    alfas.append(alfa)\n",
    "    cis_0.append(conf_int_one_sample(x,alfa,alternative='left'))\n",
    "    cis_0_pod3.append(conf_int_one_sample(x,alfa,diff=diff,alternative='left'))\n",
    "    cis_0_pod1.append(np.mean(x))\n",
    "fig, (ax1, ax2, ax3) = plt.subplots(3, sharex=True)\n",
    "\n",
    "ax1.set_title('podejście1')\n",
    "ax2.set_title('podejście2')\n",
    "ax3.set_title('podejście3')\n",
    "\n",
    "for i in range(len(alfas)):\n",
    "    \n",
    "    if cis_0[i] > pop_mean + diff:\n",
    "        ax2.scatter(cis_0[i],alfas[i],color = 'red')\n",
    "    elif cis_0[i] > pop_mean and cis_0[i] < pop_mean+diff:\n",
    "        ax2.scatter(cis_0[i],alfas[i],color = 'blue')\n",
    "    else:\n",
    "        ax2.scatter(cis_0[i],alfas[i],color = 'yellow')\n",
    "    \n",
    "    if cis_0_pod3[i] > pop_mean + diff:\n",
    "        ax3.scatter(cis_0_pod3[i],alfas[i],color = 'red')\n",
    "    elif cis_0_pod3[i] > pop_mean and cis_0_pod3[i] < pop_mean+diff:\n",
    "        ax3.scatter(cis_0_pod3[i],alfas[i],color = 'blue')\n",
    "    else:\n",
    "        ax3.scatter(cis_0_pod3[i],alfas[i],color = 'yellow')\n",
    "    \n",
    "    if cis_0_pod1[i] > pop_mean + diff:\n",
    "        ax1.scatter(cis_0_pod1[i],alfas[i],color = 'red')\n",
    "    elif cis_0_pod1[i] > pop_mean and cis_0_pod1[i] < pop_mean+diff:\n",
    "        ax1.scatter(cis_0_pod1[i],alfas[i],color = 'blue')\n",
    "    else:\n",
    "        ax1.scatter(cis_0_pod1[i],alfas[i],color = 'yellow')\n",
    "\n",
    "ax1.axvline(x=pop_mean, color = 'black', label = 'pop_mean')\n",
    "ax1.axvline(x=pop_mean+diff, color = 'orange', label = 'pop_mean + diff')\n",
    "ax1.axvline(x=mean, color = 'brown', label = 'sample_population_mean')\n",
    "fig.legend(frameon=False, loc = 'center', bbox_to_anchor = (0.5,1.05))\n",
    "ax2.axvline(x=pop_mean, color = 'black')\n",
    "ax2.axvline(x=pop_mean+diff, color = 'orange')\n",
    "ax2.axvline(x=mean, color = 'brown')\n",
    "ax3.axvline(x=pop_mean, color = 'black')\n",
    "ax3.axvline(x=pop_mean+diff, color = 'orange')\n",
    "ax3.axvline(x=mean, color = 'brown')\n",
    "ax3.set_xlabel('dolne granice przedziałów ufności dla trzech podejść - odcinek od pop_mean do pop_mean + diff przedstawia mały efekt')\n",
    "ax2.set_ylabel('wartość alfa')"
   ]
  },
  {
   "cell_type": "code",
   "execution_count": 44,
   "metadata": {},
   "outputs": [],
   "source": [
    "import random\n",
    "def variation(array,n):\n",
    "    vals = [random.choice(array) for i in range(n)]\n",
    "    return vals\n",
    "delta = 4\n",
    "sd = 4\n",
    "dane = []\n",
    "mean_pop = 0\n",
    "alfa= 0.05\n",
    "mi = 2\n",
    "result1 = []\n",
    "result2 = []\n",
    "result3 = []\n",
    "ile = 0\n",
    "#for i in range(0,20):\n",
    "#    mi = delta + i*0.01\n",
    "#    for k in range(-20,21):\n",
    "#        sd = 3 + k*0.01\n",
    "#        n = 40 + int(random.randint(0,10)*4)\n",
    "#        popp = get_normal_sample(10000,mi,sd)\n",
    "#        for j in range(10):\n",
    "#            ile+=1\n",
    "#            #mi = 6\n",
    "#            sample = variation(popp,n)\n",
    "#            dane.append([t_test_for_one_group(sample,mean_pop,alternative='greater'), #pval_2\n",
    "#                         t_test_for_one_group(sample,mean_pop,alternative='greater',diff = delta), #p_val3\n",
    "#                         mi, #prawdziwa średnia\n",
    "#                         np.mean(sample)]) #estymator\n",
    "popp = get_normal_sample(10000,mi,sd)\n",
    "for i in range(1000):\n",
    "    sample = variation(popp,n)\n",
    "    dane.append([t_test_for_one_group(sample,mean_pop,alternative='greater'), #pval_2\n",
    "                 t_test_for_one_group(sample,mean_pop,alternative='greater',diff = delta), #p_val3\n",
    "                 mi, #prawdziwa średnia\n",
    "                 np.mean(sample)]) #estymator\n",
    "\n",
    "for i in dane:\n",
    "    if (i[3] > mean_pop + delta) and (i[2] > mean_pop+delta):\n",
    "        result1.append('d1')\n",
    "    elif (i[3] < mean_pop + delta) and (i[2] <= mean_pop+delta):\n",
    "        result1.append('m1')\n",
    "    elif (i[3] > mean_pop + delta) and (i[2] <= mean_pop+delta):\n",
    "        result1.append('d0')\n",
    "    elif (i[3] < mean_pop + delta) and (i[2] > mean_pop+delta):\n",
    "        result1.append('m0')\n",
    "    \n",
    "    if (i[0] < alfa) and (i[3] > mean_pop+delta) and (i[2] > mean_pop+delta):\n",
    "        result2.append('d1')\n",
    "    #elif (i[0] < alfa) and (i[3] > mean_pop+delta) and (i[2] <= mean_pop+delta):\n",
    "    #    result2.append('d0')\n",
    "    #elif (i[0] < alfa) and (i[3] < mean_pop+delta) and (i[2] > mean_pop+delta):\n",
    "    #    result2.append('m0')\n",
    "    #elif (i[0] > alfa) and (i[3] < )\n",
    "    elif (i[0] > alfa) and (i[3] > mean_pop and i[3] < mean_pop+diff):\n",
    "        result2.append('m1')\n",
    "    elif (i[3] < mean_pop):\n",
    "        result2.append('m1')\n",
    "    else:\n",
    "        result2.append('nwd')\n",
    "    \n",
    "    if (i[1] < alfa) and (i[3] > mean_pop + diff):\n",
    "        result3.append('d1')\n",
    "    elif (i[1] < alfa) and (i[3] < mean_pop + diff):\n",
    "        result3.append('m1')\n",
    "    elif i[1] > alfa:\n",
    "        result3.append('nwd')"
   ]
  },
  {
   "cell_type": "code",
   "execution_count": 45,
   "metadata": {},
   "outputs": [
    {
     "name": "stdout",
     "output_type": "stream",
     "text": [
      "podejście 1\n",
      "d1:  0\n",
      "d0:  0\n",
      "m1:  1000\n",
      "m0:  0\n",
      "\n",
      " podejście 2 \n",
      "\n",
      "d1:  0\n",
      "d0:  0\n",
      "m1:  12\n",
      "m0:  0\n",
      "nwd:  988\n",
      "\n",
      " podejście 3 \n",
      "\n",
      "d1:  0\n",
      "d0:  0\n",
      "m1:  0\n",
      "m0:  0\n",
      "nwd:  1000\n"
     ]
    }
   ],
   "source": [
    "print('podejście 1')\n",
    "print('d1: ',result1.count('d1'))\n",
    "print('d0: ',result1.count('d0'))\n",
    "print('m1: ',result1.count('m1'))\n",
    "print('m0: ',result1.count('m0'))\n",
    "#print(len(result1)/ile)\n",
    "print('\\n','podejście 2','\\n')\n",
    "print('d1: ',result2.count('d1'))\n",
    "print('d0: ',result2.count('d0'))\n",
    "print('m1: ',result2.count('m1'))\n",
    "print('m0: ',result2.count('m0'))\n",
    "#print('zle: ',result2.count('zle'))\n",
    "print('nwd: ',result2.count('nwd'))\n",
    "#print(len(result2)/ile)\n",
    "print('\\n','podejście 3','\\n')\n",
    "print('d1: ',result3.count('d1'))\n",
    "print('d0: ',result3.count('d0'))\n",
    "print('m1: ',result3.count('m1'))\n",
    "print('m0: ',result3.count('m0'))\n",
    "#print('zle: ',result3.count('zle'))\n",
    "print('nwd: ',result3.count('nwd'))\n",
    "#print(len(result3)/ile)"
   ]
  },
  {
   "cell_type": "code",
   "execution_count": null,
   "metadata": {},
   "outputs": [],
   "source": []
  }
 ],
 "metadata": {
  "kernelspec": {
   "display_name": "Python 3",
   "language": "python",
   "name": "python3"
  },
  "language_info": {
   "codemirror_mode": {
    "name": "ipython",
    "version": 3
   },
   "file_extension": ".py",
   "mimetype": "text/x-python",
   "name": "python",
   "nbconvert_exporter": "python",
   "pygments_lexer": "ipython3",
   "version": "3.8.3"
  }
 },
 "nbformat": 4,
 "nbformat_minor": 4
}
