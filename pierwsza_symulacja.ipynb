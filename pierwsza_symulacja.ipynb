{
 "cells": [
  {
   "cell_type": "code",
   "execution_count": 1,
   "metadata": {},
   "outputs": [],
   "source": [
    "import pandas as pd\n",
    "import numpy as np\n",
    "import matplotlib.pyplot as plt\n",
    "import seaborn as sns\n",
    "import statsmodels.formula.api as smf\n",
    "import statsmodels.stats.api as sms\n",
    "import scipy.stats\n",
    "from scipy.stats import t, norm, ttest_ind\n",
    "import decimal\n",
    "%matplotlib inline"
   ]
  },
  {
   "cell_type": "code",
   "execution_count": 2,
   "metadata": {},
   "outputs": [],
   "source": [
    "def t_test_for_one_group(x, diff,alfa,pop_mean=0):\n",
    "    n = len(x)\n",
    "    sd = np.std(x,ddof=1)\n",
    "    se = sd/np.sqrt(n)\n",
    "    ts = (np.mean(x) - pop_mean - diff)/se\n",
    "    p_val = t.sf(np.abs(ts),df=n-1) #test jednostronny\n",
    "    if diff == 0: #dla testu z samą średnią populacyjną\n",
    "        down_confine = - se*t.ppf(1-alfa,df = n-1)+ pop_mean\n",
    "    else:\n",
    "        down_confine = - se*t.ppf(1-alfa,df = n-1) + pop_mean + diff - pop_mean #dla testu z istotnością praktyczną - przesunięcie krzywej o stałą \n",
    "    return p_val, down_confine, np.mean(x) #test jednostronny - zwraca tylko dolną granicę przedziału"
   ]
  },
  {
   "cell_type": "code",
   "execution_count": 3,
   "metadata": {},
   "outputs": [],
   "source": [
    "def get_normal_sample(n,mean,sd):\n",
    "    return np.random.normal(loc=mean,scale=sd,size=n)\n"
   ]
  },
  {
   "cell_type": "code",
   "execution_count": 4,
   "metadata": {},
   "outputs": [],
   "source": [
    "def sim(n,mean,sd,how_many):\n",
    "    return [get_normal_sample(n,mean,sd)for i in range(how_many)]# for i in range(hw_mn)] # zmienne są z rozkładu normalnego,\n",
    "# więc pominąłem część \"losowania\" średnich"
   ]
  },
  {
   "cell_type": "code",
   "execution_count": 5,
   "metadata": {},
   "outputs": [],
   "source": [
    "def results(n,mean_pop,mean_group,sd,how_many,diff,alfa): #how_many = wielkość próby\n",
    "    #dla każdej próby zwraca wartość p i dolną granicę przedziału\n",
    "    result_0 = []\n",
    "    result_diff = []\n",
    "    simulation = sim(n,mean_group,sd,how_many)\n",
    "    for sample in simulation:\n",
    "        p0,d0,m0 = t_test_for_one_group(sample,0,alfa,mean_pop)\n",
    "        p1,d1,m1 = t_test_for_one_group(sample,diff,alfa,mean_pop)\n",
    "        result_0.append([p0,d0,m0])\n",
    "        result_diff.append([p1,d1,m1])\n",
    "    return result_0, result_diff    "
   ]
  },
  {
   "cell_type": "code",
   "execution_count": 6,
   "metadata": {},
   "outputs": [],
   "source": [
    "def end(n,mean_pop,mean_group,sd,how_many,alfa): # pętla służy do wybierania wartości diff - granicy, którą uważa się za \n",
    "    #ważną - dałem taki zakres, żeby zawierał średnią populacyjną i średnią z próby\n",
    "    diff = 0\n",
    "    ii = [] #wartości na osi X\n",
    "    a = [] # ilość p wartości, dolnych granic większych od średniej z próby dla grupy uwzględniającej istotność praktyczną\n",
    "    b = [] # to co w a - dla grupy \"kontrolnej\"\n",
    "    for i in range(100,170):\n",
    "        ii.append(i*0.1)\n",
    "        diff = i*0.1\n",
    "        g1,g2 = results(n,mean_pop,mean_group,sd,how_many,diff,alfa)\n",
    "        a.append(len([i for i in g2 if i[0] < 0.05 and i[1] < i[2]]))\n",
    "        b.append(len([i for i in g1 if i[0] < 0.05 and i[1] < i[2]]))\n",
    "    return (ii,a,b)"
   ]
  },
  {
   "cell_type": "code",
   "execution_count": 7,
   "metadata": {},
   "outputs": [],
   "source": [
    "ii,a,b = end(50,10,14,2,100,0.05) #pop - 10, #sample - 14"
   ]
  },
  {
   "cell_type": "code",
   "execution_count": 8,
   "metadata": {},
   "outputs": [
    {
     "data": {
      "text/plain": [
       "(9.0, 20.0)"
      ]
     },
     "execution_count": 8,
     "metadata": {},
     "output_type": "execute_result"
    },
    {
     "data": {
      "image/png": "[encoded data removed]",
      "text/plain": [
       "<Figure size 432x288 with 2 Axes>"
      ]
     },
     "metadata": {
      "needs_background": "light"
     },
     "output_type": "display_data"
    }
   ],
   "source": [
    "fig, (ax1, ax2) = plt.subplots(2, sharex=True) #wykres wyglądał tak samo dla o wiele większych parametrów - wykres wyglądał tak samo\n",
    "ax1.scatter(ii, a)\n",
    "ax2.scatter(ii, b)\n",
    "plt.xlim(9,20,1)"
   ]
  },
  {
   "cell_type": "code",
   "execution_count": null,
   "metadata": {},
   "outputs": [],
   "source": [
    "def boot(n,mean_pop,mean_group,sd,how_many,alfa): # pętla służy do wybierania wartości diff - granicy, którą uważa się za \n",
    "    #ważną - dałem taki zakres, żeby zawierał średnią populacyjną i średnią z próby\n",
    "    diff = 0\n",
    "    ii = [] #wartości na osi X\n",
    "    a = [] # ilość p wartości, dolnych granic większych od średniej z próby dla grupy uwzględniającej istotność praktyczną\n",
    "    b = [] # to co w a - dla grupy \"kontrolnej\"\n",
    "    for i in range(100,170):\n",
    "        ii.append(i*0.1)\n",
    "        diff = i*0.1\n",
    "        g1,g2 = results(n,mean_pop,mean_group,sd,how_many,diff,alfa)\n",
    "        a.append(len([i for i in g2 if i[0] < 0.05 and i[1] < i[2]]))\n",
    "        b.append(len([i for i in g1 if i[0] < 0.05 and i[1] < i[2]]))\n",
    "    return (ii,a,b)"
   ]
  }
 ],
 "metadata": {
  "kernelspec": {
   "display_name": "Python 3",
   "language": "python",
   "name": "python3"
  },
  "language_info": {
   "codemirror_mode": {
    "name": "ipython",
    "version": 3
   },
   "file_extension": ".py",
   "mimetype": "text/x-python",
   "name": "python",
   "nbconvert_exporter": "python",
   "pygments_lexer": "ipython3",
   "version": "3.8.3"
  }
 },
 "nbformat": 4,
 "nbformat_minor": 4
}
