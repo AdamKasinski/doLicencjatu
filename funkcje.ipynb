{
 "cells": [
  {
   "cell_type": "code",
   "execution_count": 1,
   "metadata": {},
   "outputs": [],
   "source": [
    "import random\n",
    "import pandas as pd\n",
    "import numpy as np\n",
    "import matplotlib.pyplot as plt\n",
    "import seaborn as sns\n",
    "import statsmodels.formula.api as smf\n",
    "import statsmodels.stats.api as sms\n",
    "import statsmodels.stats.power as smp\n",
    "import scipy.stats\n",
    "from scipy.stats import t, norm, ttest_ind, ttest_rel, ttest_1samp\n",
    "import decimal\n",
    "import random\n",
    "#decimal.getcontext().prec = 4\n",
    "%matplotlib inline"
   ]
  },
  {
   "cell_type": "code",
   "execution_count": 2,
   "metadata": {},
   "outputs": [],
   "source": [
    "def get_normal_sample(n,mean,sd):\n",
    "    return np.random.normal(loc=mean,scale=sd,size=n)"
   ]
  },
  {
   "cell_type": "code",
   "execution_count": 2,
   "metadata": {},
   "outputs": [],
   "source": [
    "def variation(array,n):\n",
    "    indicies = [random.choice(array) for i in range(n)]"
   ]
  },
  {
   "cell_type": "code",
   "execution_count": 3,
   "metadata": {},
   "outputs": [],
   "source": [
    "def conf_int_one_sample(x,alfa,alternative = 'two-tailed'):\n",
    "    '''\n",
    "    alternative == 'two-tailed','left','right'\n",
    "    '''\n",
    "    mean = np.mean(x)\n",
    "    se = np.std(x,ddof=1)/np.sqrt(len(x))\n",
    "    if alternative == 'two-tailed':\n",
    "        return mean - t.ppf(1-alfa/2,df=len(x)-1)*se,mean + t.ppf(1-alfa/2,df=len(x)-1)*se\n",
    "    elif alternative == 'left':\n",
    "        return mean - t.ppf(1-alfa,df=len(x)-1)*se\n",
    "    elif alternative == 'right':\n",
    "        return mean + t.ppf(1-alfa,df=len(x)-1)*se"
   ]
  },
  {
   "cell_type": "code",
   "execution_count": 4,
   "metadata": {},
   "outputs": [],
   "source": [
    "def t_test_for_one_group(x,pop_mean,diff=0,alternative='two-tailed'):\n",
    "    n = len(x)\n",
    "    sd = np.std(x,ddof=1)\n",
    "    se = sd/np.sqrt(n)\n",
    "    if diff == 0:\n",
    "        ts = (np.mean(x) - pop_mean)/se\n",
    "    else:\n",
    "        ts = (np.mean(x) - pop_mean - diff)/se\n",
    "    df = n-1\n",
    "    if alternative == \"two-tailed\":\n",
    "        p_val = t.sf(np.abs(ts),df)*2\n",
    "        #p_val = 2 * t.cdf(-abs(ts), df)\n",
    "    elif alternative == \"lesser\":\n",
    "        p_val = t.cdf(ts, df)\n",
    "    elif alternative == \"greater\":\n",
    "        p_val = 1-t.cdf(ts, df)\n",
    "    return p_val"
   ]
  },
  {
   "cell_type": "code",
   "execution_count": 5,
   "metadata": {},
   "outputs": [],
   "source": [
    "def t_test_for_independent_groups(x,y,diff = 0, alternative = 'two-tailed'): #Welch\n",
    "    n1 = np.size(x)\n",
    "    n2 = np.size(y)\n",
    "    var1 = np.var(x,ddof=1)\n",
    "    var2 = np.var(y,ddof=1)\n",
    "    se = np.sqrt(var1/n1+var2/n2)\n",
    "    ts = (np.mean(x)-np.mean(y)-diff)/se\n",
    "    df = (var1/n1+var2/n2)**2/((var1/n1)**2/(n1-1)+(var2/n2)**2/(n2-1))\n",
    "    if alternative == \"two-tailed\":\n",
    "        p_val = t.sf(np.abs(ts),df)\n",
    "    if alternative == \"lesser\":\n",
    "        p_val = t.cdf(ts, df)\n",
    "    if alternative == \"greater\":\n",
    "        p_val = 1-t.cdf(ts, df)\n",
    "    return p_val"
   ]
  },
  {
   "cell_type": "code",
   "execution_count": 6,
   "metadata": {},
   "outputs": [],
   "source": [
    "def t_test_for_dependent_groups(x,y,diff = 0, alternative='two-tailed'):\n",
    "    n = np.size(x)\n",
    "    x = np.array(x)\n",
    "    y = np.array(y)\n",
    "    std = np.std(x-y,ddof=1)\n",
    "    mean = np.abs(np.mean(x-y))\n",
    "    se = std/np.sqrt(n)\n",
    "    ts = (mean-diff)/se\n",
    "    df = n-1\n",
    "    #p_val = t.sf(np.abs(ts),n-1)\n",
    "    if alternative == \"two-tailed\":\n",
    "        p_val = 2 * t.cdf(-abs(ts), df)\n",
    "    if alternative == \"lesser\":\n",
    "        p_val = t.cdf(ts, df)\n",
    "    if alternative == \"greater\":\n",
    "        p_val = 1-t.cdf(ts, df)\n",
    "    return p_val"
   ]
  },
  {
   "cell_type": "code",
   "execution_count": 7,
   "metadata": {},
   "outputs": [],
   "source": [
    "x = get_normal_sample(40,10,6)\n",
    "y = get_normal_sample(40,14,6)"
   ]
  },
  {
   "cell_type": "code",
   "execution_count": 7,
   "metadata": {},
   "outputs": [],
   "source": [
    "def one_sample_conf_comparison(pop_mean,smpl_mean,diff): # patrzy na przedział ufności \n",
    "    podsumowanie = []\n",
    "   \n",
    "    for j in range(100):\n",
    "        samples_downs = []\n",
    "        sample = get_normal_sample(40,smpl_mean,4)\n",
    "        for k in range(1,501):\n",
    "            k =k*0.001\n",
    "            down = conf_int_one_sample(sample,k,'left')\n",
    "            samples_downs.append(down)\n",
    "\n",
    "        g1 = np.array(samples_downs) - pop_mean\n",
    "        sample_mean = smpl_mean - pop_mean\n",
    "        cent_diff = diff - pop_mean\n",
    "        \n",
    "        diff_01 = len([i for i in g1 if i>0 and sample_mean>0])\n",
    "        diff_non_01 = len([i for i in g1 if i>cent_diff and sample_mean>cent_diff])\n",
    "\n",
    "        diff_02 = len([i for i in g1 if i<=0 and sample_mean<=0])\n",
    "        diff_non_02 = len([i for i in g1 if i<=cent_diff and sample_mean<=cent_diff])\n",
    "\n",
    "        diff_03 = len([i for i in g1 if i<=0 and sample_mean>0])\n",
    "        diff_non_03 = len([i for i in g1 if i<=cent_diff and sample_mean>cent_diff])\n",
    "\n",
    "        diff_04 = len([i for i in g1 if i>0 and sample_mean<=0])\n",
    "        diff_non_04 = len([i for i in g1 if i>cent_diff and sample_mean<=cent_diff])\n",
    "\n",
    "        podsumowanie.append([diff_01,diff_non_01,diff_02,diff_non_02,diff_03,diff_non_03,diff_04,diff_non_04])\n",
    "\n",
    "    ile_wszystkich = sum([sum(i) for i in podsumowanie])/2\n",
    "\n",
    "    for i in range(len(podsumowanie)):\n",
    "        pop_dobrze = sum([i[0] for i in podsumowanie])\n",
    "        nwd_dobrze = sum([i[2] for i in podsumowanie])\n",
    "        nwd_zle = sum([i[4] for i in podsumowanie])\n",
    "        pop_zle = sum([i[6] for i in podsumowanie])\n",
    "        alt_pop_dobrze = sum([i[1] for i in podsumowanie])\n",
    "        alt_nwd_dobrze = sum([i[3] for i in podsumowanie])\n",
    "        alt_nwd_zle = sum([i[5] for i in podsumowanie])\n",
    "        alt_pop_zle = sum([i[7] for i in podsumowanie])\n",
    "\n",
    "    print('test, ocena testu')\n",
    "\n",
    "    print('pozytywny, dobrze', '\\n' , 'dla klasycznego: ', pop_dobrze,'\\n', 'dla alternatywnego: ', alt_pop_dobrze,' ')\n",
    "\n",
    "    print('\\n','pozytywny, źle', '\\n' , 'dla klasycznego: ', pop_zle,'\\n', 'dla alternatywnego: ', alt_pop_zle)\n",
    "\n",
    "    print('\\n','nie wiadomo, dobrze', '\\n' , 'dla klasycznego: ', nwd_dobrze,'\\n', 'dla alternatywnego: ', alt_nwd_dobrze)\n",
    "\n",
    "    print('\\n','nie wiadomo, źle', '\\n' , 'dla klasycznego: ', nwd_zle,'\\n', 'dla alternatywnego: ', alt_nwd_zle)\n",
    "\n",
    "    print('\\n','poprawnie', '\\n' , 'dla klasycznego: ', (pop_dobrze+nwd_dobrze)/ile_wszystkich ,'\\n', 'dla alternatywnego: ', (alt_pop_dobrze+alt_nwd_dobrze)/ile_wszystkich)\n",
    "\n",
    "    #return (pop_dobrze+nwd_dobrze)/ile_wszystkich, (alt_pop_dobrze+alt_nwd_dobrze)/ile_wszystkich\n"
   ]
  },
  {
   "cell_type": "code",
   "execution_count": 61,
   "metadata": {},
   "outputs": [
    {
     "name": "stdout",
     "output_type": "stream",
     "text": [
      "test, ocena testu\n",
      "pozytywny, dobrze \n",
      " dla klasycznego:  0 \n",
      " dla alternatywnego:  0  \n",
      "\n",
      " pozytywny, źle \n",
      " dla klasycznego:  14298 \n",
      " dla alternatywnego:  1565\n",
      "\n",
      " nie wiadomo, dobrze \n",
      " dla klasycznego:  35702 \n",
      " dla alternatywnego:  48435\n",
      "\n",
      " nie wiadomo, źle \n",
      " dla klasycznego:  0 \n",
      " dla alternatywnego:  0\n",
      "\n",
      " poprawnie \n",
      " dla klasycznego:  0.71404 \n",
      " dla alternatywnego:  0.9687\n"
     ]
    },
    {
     "data": {
      "text/plain": [
       "(0.71404, 0.9687)"
      ]
     },
     "execution_count": 61,
     "metadata": {},
     "output_type": "execute_result"
    }
   ],
   "source": []
  },
  {
   "cell_type": "code",
   "execution_count": 78,
   "metadata": {
    "scrolled": true
   },
   "outputs": [
    {
     "name": "stdout",
     "output_type": "stream",
     "text": [
      "test, ocena testu\n",
      "pozytywny, dobrze \n",
      " dla klasycznego:  50000 \n",
      " dla alternatywnego:  49962  \n",
      "\n",
      " pozytywny, źle \n",
      " dla klasycznego:  0 \n",
      " dla alternatywnego:  0\n",
      "\n",
      " nie wiadomo, dobrze \n",
      " dla klasycznego:  0 \n",
      " dla alternatywnego:  0\n",
      "\n",
      " nie wiadomo, źle \n",
      " dla klasycznego:  0 \n",
      " dla alternatywnego:  38\n",
      "\n",
      " poprawnie \n",
      " dla klasycznego:  1.0 \n",
      " dla alternatywnego:  0.99924\n",
      "test, ocena testu\n",
      "pozytywny, dobrze \n",
      " dla klasycznego:  34863 \n",
      " dla alternatywnego:  47834  \n",
      "\n",
      " pozytywny, źle \n",
      " dla klasycznego:  0 \n",
      " dla alternatywnego:  0\n",
      "\n",
      " nie wiadomo, dobrze \n",
      " dla klasycznego:  0 \n",
      " dla alternatywnego:  0\n",
      "\n",
      " nie wiadomo, źle \n",
      " dla klasycznego:  15137 \n",
      " dla alternatywnego:  2166\n",
      "\n",
      " poprawnie \n",
      " dla klasycznego:  0.69726 \n",
      " dla alternatywnego:  0.95668\n",
      "test, ocena testu\n",
      "pozytywny, dobrze \n",
      " dla klasycznego:  50000 \n",
      " dla alternatywnego:  49034  \n",
      "\n",
      " pozytywny, źle \n",
      " dla klasycznego:  0 \n",
      " dla alternatywnego:  0\n",
      "\n",
      " nie wiadomo, dobrze \n",
      " dla klasycznego:  0 \n",
      " dla alternatywnego:  0\n",
      "\n",
      " nie wiadomo, źle \n",
      " dla klasycznego:  0 \n",
      " dla alternatywnego:  966\n",
      "\n",
      " poprawnie \n",
      " dla klasycznego:  1.0 \n",
      " dla alternatywnego:  0.98068\n",
      "test, ocena testu\n",
      "pozytywny, dobrze \n",
      " dla klasycznego:  50000 \n",
      " dla alternatywnego:  49121  \n",
      "\n",
      " pozytywny, źle \n",
      " dla klasycznego:  0 \n",
      " dla alternatywnego:  0\n",
      "\n",
      " nie wiadomo, dobrze \n",
      " dla klasycznego:  0 \n",
      " dla alternatywnego:  0\n",
      "\n",
      " nie wiadomo, źle \n",
      " dla klasycznego:  0 \n",
      " dla alternatywnego:  879\n",
      "\n",
      " poprawnie \n",
      " dla klasycznego:  1.0 \n",
      " dla alternatywnego:  0.98242\n",
      "test, ocena testu\n",
      "pozytywny, dobrze \n",
      " dla klasycznego:  35705 \n",
      " dla alternatywnego:  35705  \n",
      "\n",
      " pozytywny, źle \n",
      " dla klasycznego:  0 \n",
      " dla alternatywnego:  0\n",
      "\n",
      " nie wiadomo, dobrze \n",
      " dla klasycznego:  0 \n",
      " dla alternatywnego:  0\n",
      "\n",
      " nie wiadomo, źle \n",
      " dla klasycznego:  14295 \n",
      " dla alternatywnego:  14295\n",
      "\n",
      " poprawnie \n",
      " dla klasycznego:  0.7141 \n",
      " dla alternatywnego:  0.7141\n",
      "test, ocena testu\n",
      "pozytywny, dobrze \n",
      " dla klasycznego:  49948 \n",
      " dla alternatywnego:  48655  \n",
      "\n",
      " pozytywny, źle \n",
      " dla klasycznego:  0 \n",
      " dla alternatywnego:  0\n",
      "\n",
      " nie wiadomo, dobrze \n",
      " dla klasycznego:  0 \n",
      " dla alternatywnego:  0\n",
      "\n",
      " nie wiadomo, źle \n",
      " dla klasycznego:  52 \n",
      " dla alternatywnego:  1345\n",
      "\n",
      " poprawnie \n",
      " dla klasycznego:  0.99896 \n",
      " dla alternatywnego:  0.9731\n",
      "test, ocena testu\n",
      "pozytywny, dobrze \n",
      " dla klasycznego:  0 \n",
      " dla alternatywnego:  0  \n",
      "\n",
      " pozytywny, źle \n",
      " dla klasycznego:  12664 \n",
      " dla alternatywnego:  12664\n",
      "\n",
      " nie wiadomo, dobrze \n",
      " dla klasycznego:  37336 \n",
      " dla alternatywnego:  37336\n",
      "\n",
      " nie wiadomo, źle \n",
      " dla klasycznego:  0 \n",
      " dla alternatywnego:  0\n",
      "\n",
      " poprawnie \n",
      " dla klasycznego:  0.74672 \n",
      " dla alternatywnego:  0.74672\n",
      "test, ocena testu\n",
      "pozytywny, dobrze \n",
      " dla klasycznego:  37978 \n",
      " dla alternatywnego:  37978  \n",
      "\n",
      " pozytywny, źle \n",
      " dla klasycznego:  0 \n",
      " dla alternatywnego:  0\n",
      "\n",
      " nie wiadomo, dobrze \n",
      " dla klasycznego:  0 \n",
      " dla alternatywnego:  0\n",
      "\n",
      " nie wiadomo, źle \n",
      " dla klasycznego:  12022 \n",
      " dla alternatywnego:  12022\n",
      "\n",
      " poprawnie \n",
      " dla klasycznego:  0.75956 \n",
      " dla alternatywnego:  0.75956\n",
      "test, ocena testu\n",
      "pozytywny, dobrze \n",
      " dla klasycznego:  0 \n",
      " dla alternatywnego:  48107  \n",
      "\n",
      " pozytywny, źle \n",
      " dla klasycznego:  16159 \n",
      " dla alternatywnego:  0\n",
      "\n",
      " nie wiadomo, dobrze \n",
      " dla klasycznego:  33841 \n",
      " dla alternatywnego:  0\n",
      "\n",
      " nie wiadomo, źle \n",
      " dla klasycznego:  0 \n",
      " dla alternatywnego:  1893\n",
      "\n",
      " poprawnie \n",
      " dla klasycznego:  0.67682 \n",
      " dla alternatywnego:  0.96214\n",
      "test, ocena testu\n",
      "pozytywny, dobrze \n",
      " dla klasycznego:  0 \n",
      " dla alternatywnego:  0  \n",
      "\n",
      " pozytywny, źle \n",
      " dla klasycznego:  1699 \n",
      " dla alternatywnego:  14959\n",
      "\n",
      " nie wiadomo, dobrze \n",
      " dla klasycznego:  48301 \n",
      " dla alternatywnego:  35041\n",
      "\n",
      " nie wiadomo, źle \n",
      " dla klasycznego:  0 \n",
      " dla alternatywnego:  0\n",
      "\n",
      " poprawnie \n",
      " dla klasycznego:  0.96602 \n",
      " dla alternatywnego:  0.70082\n"
     ]
    }
   ],
   "source": [
    "table = []\n",
    "pop_mean = [random.randint(7,10) for i in range(10)]\n",
    "smpl_mean = [random.randint(15,17) for i in range(10)]\n",
    "diff = [random.randint(12,13) for i in range(10)]\n",
    "for i in range(10):\n",
    "    #norm, alt = one_sample_conf_comparison(random.randint(8,12),random.randint(11,14),random.randint(10,12)) #pop_mean,smpl_mean,diff\n",
    "    one_sample_conf_comparison(random.randint(8,12),random.randint(11,14),random.randint(10,12))\n",
    "    #table.append([norm,alt])\n",
    "#z = [i for i in table if i[0]<i[1]]\n",
    "#len(z)"
   ]
  },
  {
   "cell_type": "code",
   "execution_count": 8,
   "metadata": {},
   "outputs": [],
   "source": [
    "def one_sample_ttest_comparison(sample_mean,pop_mean,diff,alfa):\n",
    "    #p_p   = 0  #test_rzeczywistość\n",
    "    #m_m   = 0\n",
    "    #p_m   = 0\n",
    "    #m_p   = 0\n",
    "    #a_p_p = 0\n",
    "    #a_m_m = 0\n",
    "    #a_p_m = 0\n",
    "    #a_m_p = 0\n",
    "    for i in range(100):\n",
    "        sample = get_normal_sample(40,sample_mean,4)\n",
    "        \n",
    "        stand = t_test_for_one_group(sample,pop_mean,alternative='greater')\n",
    "        alt = t_test_for_one_group(sample,pop_mean,diff,'greater')\n",
    "        if sample_mean > pop_mean:\n",
    "            if stand < alfa:\n",
    "                p_p+=1\n",
    "            else:\n",
    "                m_p +=1\n",
    "            if alt < alfa:\n",
    "                a_p_p+=1\n",
    "            else:\n",
    "                a_m_p +=1\n",
    "        else:\n",
    "            if stand < alfa:\n",
    "                m_m+=1\n",
    "            else:\n",
    "                p_m +=1\n",
    "            if alt < alfa:\n",
    "                a_m_m+=1\n",
    "            else:\n",
    "                a_p_m +=1\n",
    "        #p_values.append([stand,alt])\n",
    "        #p_values.append([t_test_for_one_group(sample,pop_mean,'greater'),t_test_for_one_group(sample,pop_mean,diff,'greater')])\n",
    "    #return p_p, m_m, p_m, m_p, a_p_p, a_m_m, a_p_m, a_m_p"
   ]
  },
  {
   "cell_type": "code",
   "execution_count": 25,
   "metadata": {},
   "outputs": [
    {
     "name": "stdout",
     "output_type": "stream",
     "text": [
      "test, rzeczywistość \n",
      " p_p  8788 \n",
      " m_m  0 \n",
      " a_p_p  0 \n",
      " a_m_m  1412 \n",
      " p_m  0 \n",
      " m_p  1212 \n",
      " a_p_m  8588 \n",
      " a_m_p  0 \n",
      " correct:  0.8788 \n",
      " correct alt:  0.1412\n",
      "test, rzeczywistość \n",
      " p_p  9994 \n",
      " m_m  0 \n",
      " a_p_p  8766 \n",
      " a_m_m  0 \n",
      " p_m  0 \n",
      " m_p  6 \n",
      " a_p_m  0 \n",
      " a_m_p  1234 \n",
      " correct:  0.9994 \n",
      " correct alt:  0.8766\n",
      "test, rzeczywistość \n",
      " p_p  10000 \n",
      " m_m  0 \n",
      " a_p_p  9996 \n",
      " a_m_m  0 \n",
      " p_m  0 \n",
      " m_p  0 \n",
      " a_p_m  0 \n",
      " a_m_p  4 \n",
      " correct:  1.0 \n",
      " correct alt:  0.9996\n",
      "test, rzeczywistość \n",
      " p_p  8670 \n",
      " m_m  0 \n",
      " a_p_p  0 \n",
      " a_m_m  1374 \n",
      " p_m  0 \n",
      " m_p  1330 \n",
      " a_p_m  8626 \n",
      " a_m_p  0 \n",
      " correct:  0.867 \n",
      " correct alt:  0.1374\n",
      "test, rzeczywistość \n",
      " p_p  9878 \n",
      " m_m  0 \n",
      " a_p_p  0 \n",
      " a_m_m  208 \n",
      " p_m  0 \n",
      " m_p  122 \n",
      " a_p_m  9792 \n",
      " a_m_p  0 \n",
      " correct:  0.9878 \n",
      " correct alt:  0.0208\n"
     ]
    }
   ],
   "source": [
    "samplemean = [11,13,15,11,14]\n",
    "popmean = [10,10,10,10,12]\n",
    "diff_list = [12,12,12,12,16]\n",
    "for k in range(5):\n",
    "    p_p   = 0\n",
    "    m_m   = 0\n",
    "    p_m   = 0\n",
    "    m_p   = 0\n",
    "    a_p_p = 0\n",
    "    a_m_m = 0\n",
    "    a_p_m = 0\n",
    "    a_m_p = 0\n",
    "    sample_mean = samplemean[k] \n",
    "    pop_mean = popmean[k]\n",
    "    diff = diff_list[k]\n",
    "    for alfa in range(1,101):\n",
    "        alfa = alfa*0.01\n",
    "        for i in range(1,101):\n",
    "            sample = get_normal_sample(40,sample_mean,4)\n",
    "            stand = t_test_for_one_group(sample,pop_mean,diff=0,alternative='greater')\n",
    "            alt = t_test_for_one_group(sample,pop_mean,diff,'greater')\n",
    "            if sample_mean > pop_mean:\n",
    "                if stand < alfa:\n",
    "                    p_p+=1\n",
    "                elif stand >= alfa:\n",
    "                    m_p +=1\n",
    "            else:\n",
    "                if stand < alfa:\n",
    "                    m_m+=1\n",
    "                else:\n",
    "                    p_m +=1\n",
    "\n",
    "            if sample_mean > diff:\n",
    "                if alt < alfa:\n",
    "                    a_p_p+=1\n",
    "                elif alt >= alfa:\n",
    "                    a_m_p +=1\n",
    "            else:\n",
    "                if alt < alfa:\n",
    "                    a_m_m+=1\n",
    "                else:\n",
    "                    a_p_m +=1\n",
    "\n",
    "    print('test, rzeczywistość','\\n',\n",
    "          'p_p ', p_p, '\\n',  \n",
    "          'm_m ',m_m,  '\\n',  \n",
    "          'a_p_p ',a_p_p,'\\n',\n",
    "          'a_m_m ',a_m_m,'\\n',    \n",
    "          'p_m ',p_m,  '\\n',  \n",
    "          'm_p ',m_p,  '\\n',  \n",
    "          'a_p_m ',a_p_m,'\\n',\n",
    "          'a_m_p ',a_m_p,'\\n',\n",
    "          'correct: ', (p_p+m_m)/(p_p+m_m+p_m+m_p),'\\n',\n",
    "          'correct alt: ', (a_p_p+a_m_m)/(a_p_p+a_m_m+a_p_m+a_m_p))"
   ]
  },
  {
   "cell_type": "code",
   "execution_count": 28,
   "metadata": {},
   "outputs": [
    {
     "data": {
      "image/png": "[encoded data removed]",
      "text/plain": [
       "<Figure size 432x288 with 2 Axes>"
      ]
     },
     "metadata": {
      "needs_background": "light"
     },
     "output_type": "display_data"
    },
    {
     "data": {
      "image/png": "[encoded data removed]",
      "text/plain": [
       "<Figure size 432x288 with 2 Axes>"
      ]
     },
     "metadata": {
      "needs_background": "light"
     },
     "output_type": "display_data"
    },
    {
     "data": {
      "image/png": "[encoded data removed]",
      "text/plain": [
       "<Figure size 432x288 with 2 Axes>"
      ]
     },
     "metadata": {
      "needs_background": "light"
     },
     "output_type": "display_data"
    },
    {
     "data": {
      "image/png": "[encoded data removed]",
      "text/plain": [
       "<Figure size 432x288 with 2 Axes>"
      ]
     },
     "metadata": {
      "needs_background": "light"
     },
     "output_type": "display_data"
    },
    {
     "data": {
      "image/png": "[encoded data removed]",
      "text/plain": [
       "<Figure size 432x288 with 2 Axes>"
      ]
     },
     "metadata": {
      "needs_background": "light"
     },
     "output_type": "display_data"
    }
   ],
   "source": [
    "samplemean = [11,13,15,11,14]\n",
    "popmean = [10,10,10,10,12]\n",
    "diff_list = [12,12,12,12,16]\n",
    "for k in range(5):\n",
    "    sample_mean = samplemean[k] \n",
    "    pop_mean = popmean[k]\n",
    "    diff = diff_list[k]\n",
    "    correct = []\n",
    "    alties = []\n",
    "    alfas = []\n",
    "    p_p   = 0\n",
    "    m_m   = 0\n",
    "    p_m   = 0\n",
    "    m_p   = 0\n",
    "    a_p_p = 0\n",
    "    a_m_m = 0\n",
    "    a_p_m = 0\n",
    "    a_m_p = 0\n",
    "    for alfa in range(1,101):\n",
    "        alfa = alfa*0.01\n",
    "        alfas.append(alfa)\n",
    "        for i in range(1,101):\n",
    "            sample = get_normal_sample(40,sample_mean,4)\n",
    "            stand = t_test_for_one_group(sample,pop_mean,diff=0,alternative='greater')\n",
    "            alt = t_test_for_one_group(sample,pop_mean,diff,'greater')\n",
    "            if sample_mean > pop_mean:\n",
    "                if stand < alfa:\n",
    "                    p_p+=1\n",
    "                elif stand >= alfa:\n",
    "                    m_p +=1\n",
    "            else:\n",
    "                if stand < alfa:\n",
    "                    m_m+=1\n",
    "                else:\n",
    "                    p_m +=1\n",
    "\n",
    "            if sample_mean > diff:\n",
    "                if alt < alfa:\n",
    "                    a_p_p+=1\n",
    "                elif alt >= alfa:\n",
    "                    a_m_p +=1\n",
    "            else:\n",
    "                if alt < alfa:\n",
    "                    a_m_m+=1\n",
    "                else:\n",
    "                    a_p_m +=1\n",
    "\n",
    "        correct.append((p_p+m_m)/(p_p+m_m+p_m+m_p))\n",
    "        alties.append((a_p_p+a_m_m)/(a_p_p+a_m_m+a_p_m+a_m_p))\n",
    "    fig, (ax1, ax2) = plt.subplots(2, sharex=True)\n",
    "    ax1.set_title('procedure 2')\n",
    "    ax2.set_title('procedure 3')\n",
    "    ax2.set_xlabel(\"level of alfa\")\n",
    "    ax1.set_ylabel(\"how many corrrect results in %\")\n",
    "    ax1.scatter(alfas,correct)\n",
    "    ax2.scatter(alfas,alties)\n",
    "    #print(alfas)\n",
    "    #print(correct)\n",
    "    #print(alties)\n",
    "    #print('test, rzeczywistość','\\n',\n",
    "    #      'p_p ', p_p, '\\n',  \n",
    "    #      'm_m ',m_m,  '\\n',  \n",
    "    #      'a_p_p ',a_p_p,'\\n',\n",
    "    #      'a_m_m ',a_m_m,'\\n',    \n",
    "    #      'p_m ',p_m,  '\\n',  \n",
    "    #      'm_p ',m_p,  '\\n',  \n",
    "    #      'a_p_m ',a_p_m,'\\n',\n",
    "    #      'a_m_p ',a_m_p,'\\n',\n",
    "    #      'correct: ', (p_p+m_m)/(p_p+m_m+p_m+m_p),'\\n',\n",
    "    #      'correct alt: ', (a_p_p+a_m_m)/(a_p_p+a_m_m+a_p_m+a_m_p))"
   ]
  },
  {
   "cell_type": "code",
   "execution_count": 9,
   "metadata": {},
   "outputs": [],
   "source": [
    "def podejscie1(pop_mean,sample_size,sample_mean,diff=0):\n",
    "    sample = get_normal_sample(sample_size,sample_mean,4)\n",
    "    mean = np.mean(sample)\n",
    "    if mean > pop_mean+diff and sample_mean > pop_mean+diff:\n",
    "        return 'p-cor'\n",
    "    elif mean > pop_mean+diff and sample_mean <= pop_mean+diff:\n",
    "        return '1t-er'\n",
    "    elif mean <= pop_mean+diff and sample_mean <= pop_mean+diff:\n",
    "        return 'n-cor'\n",
    "    elif mean <= pop_mean+diff and sample_mean > pop_mean+diff:\n",
    "        return '2t-er'"
   ]
  },
  {
   "cell_type": "code",
   "execution_count": 300,
   "metadata": {},
   "outputs": [
    {
     "name": "stdout",
     "output_type": "stream",
     "text": [
      "0\n",
      "8894\n",
      "1106\n",
      "0\n"
     ]
    }
   ],
   "source": [
    "results = []\n",
    "for j in range(10):\n",
    "    for i in range(1000):\n",
    "        results.append(podejscie1(18,20+j,20,3))\n",
    "print(results.count('p-cor'))\n",
    "print(results.count('n-cor'))\n",
    "print(results.count('1t-er'))\n",
    "print(results.count('2t-er'))"
   ]
  },
  {
   "cell_type": "code",
   "execution_count": 10,
   "metadata": {},
   "outputs": [],
   "source": [
    "def podejscie2(pop_mean,sample_size,sample_mean,alfa,diff=0):\n",
    "    sample = get_normal_sample(sample_size,sample_mean,4)\n",
    "    result = t_test_for_one_group(sample,pop_mean,alternative='greater')\n",
    "    \n",
    "    if result < alfa and sample_mean > pop_mean+diff:\n",
    "        return 'p-cor'\n",
    "    elif result < alfa and sample_mean <= pop_mean+diff:\n",
    "        return '1t-er'\n",
    "    elif result >= alfa and sample_mean <= pop_mean+diff:\n",
    "        return 'n-cor'\n",
    "    elif result > alfa and sample_mean > pop_mean+diff:\n",
    "        return '2t-er'"
   ]
  },
  {
   "cell_type": "code",
   "execution_count": 11,
   "metadata": {},
   "outputs": [
    {
     "ename": "NameError",
     "evalue": "name 'podejscie3' is not defined",
     "output_type": "error",
     "traceback": [
      "\u001b[1;31m---------------------------------------------------------------------------\u001b[0m",
      "\u001b[1;31mNameError\u001b[0m                                 Traceback (most recent call last)",
      "\u001b[1;32m<ipython-input-11-fba0b0841b9b>\u001b[0m in \u001b[0;36m<module>\u001b[1;34m\u001b[0m\n\u001b[0;32m      5\u001b[0m     \u001b[0malfa\u001b[0m \u001b[1;33m=\u001b[0m \u001b[0malfa\u001b[0m\u001b[1;33m*\u001b[0m\u001b[1;36m0.01\u001b[0m\u001b[1;33m\u001b[0m\u001b[1;33m\u001b[0m\u001b[0m\n\u001b[0;32m      6\u001b[0m     \u001b[1;32mfor\u001b[0m \u001b[0mi\u001b[0m \u001b[1;32min\u001b[0m \u001b[0mrange\u001b[0m\u001b[1;33m(\u001b[0m\u001b[1;36m1\u001b[0m\u001b[1;33m,\u001b[0m\u001b[1;36m1001\u001b[0m\u001b[1;33m)\u001b[0m\u001b[1;33m:\u001b[0m\u001b[1;33m\u001b[0m\u001b[1;33m\u001b[0m\u001b[0m\n\u001b[1;32m----> 7\u001b[1;33m         \u001b[0mp_s\u001b[0m\u001b[1;33m.\u001b[0m\u001b[0mappend\u001b[0m\u001b[1;33m(\u001b[0m\u001b[0mpodejscie3\u001b[0m\u001b[1;33m(\u001b[0m\u001b[1;36m0\u001b[0m\u001b[1;33m,\u001b[0m\u001b[1;36m50\u001b[0m\u001b[1;33m,\u001b[0m\u001b[1;36m2\u001b[0m\u001b[1;33m,\u001b[0m\u001b[0malfa\u001b[0m\u001b[1;33m,\u001b[0m\u001b[0mdiff\u001b[0m \u001b[1;33m=\u001b[0m \u001b[1;36m4\u001b[0m\u001b[1;33m)\u001b[0m\u001b[1;33m)\u001b[0m\u001b[1;33m\u001b[0m\u001b[1;33m\u001b[0m\u001b[0m\n\u001b[0m\u001b[0;32m      8\u001b[0m     \u001b[0mreslts\u001b[0m\u001b[1;33m.\u001b[0m\u001b[0mappend\u001b[0m\u001b[1;33m(\u001b[0m\u001b[0mlen\u001b[0m\u001b[1;33m(\u001b[0m\u001b[1;33m[\u001b[0m\u001b[0mj\u001b[0m \u001b[1;32mfor\u001b[0m \u001b[0mj\u001b[0m \u001b[1;32min\u001b[0m \u001b[0mp_s\u001b[0m \u001b[1;32mif\u001b[0m \u001b[0mj\u001b[0m \u001b[1;33m==\u001b[0m \u001b[1;34m'p-cor'\u001b[0m \u001b[1;32mor\u001b[0m \u001b[0mj\u001b[0m \u001b[1;33m==\u001b[0m \u001b[1;34m'n-cor'\u001b[0m\u001b[1;33m]\u001b[0m\u001b[1;33m)\u001b[0m\u001b[1;33m)\u001b[0m\u001b[1;33m\u001b[0m\u001b[1;33m\u001b[0m\u001b[0m\n\u001b[0;32m      9\u001b[0m     \u001b[0malfs\u001b[0m\u001b[1;33m.\u001b[0m\u001b[0mappend\u001b[0m\u001b[1;33m(\u001b[0m\u001b[0malfa\u001b[0m\u001b[1;33m)\u001b[0m\u001b[1;33m\u001b[0m\u001b[1;33m\u001b[0m\u001b[0m\n",
      "\u001b[1;31mNameError\u001b[0m: name 'podejscie3' is not defined"
     ]
    }
   ],
   "source": [
    "alfs = []\n",
    "reslts = []\n",
    "for alfa in range(1,101):\n",
    "    p_s = []\n",
    "    alfa = alfa*0.01\n",
    "    for i in range(1,1001):\n",
    "        p_s.append(podejscie3(0,50,2,alfa,diff = 4))\n",
    "    reslts.append(len([j for j in p_s if j == 'p-cor' or j == 'n-cor']))\n",
    "    alfs.append(alfa)\n",
    "plt.scatter(alfs,reslts)\n",
    "#print(p_s.count('p-cor'))\n",
    "#print(p_s.count('n-cor'))\n",
    "#print(p_s.count('1t-er'))\n",
    "#print(p_s.count('2t-er'))"
   ]
  },
  {
   "cell_type": "code",
   "execution_count": 12,
   "metadata": {},
   "outputs": [],
   "source": [
    "def podejscie3(pop_mean,sample_size,sample_mean,alfa,diff=0):\n",
    "    sample = get_normal_sample(sample_size,sample_mean,4)\n",
    "    result = t_test_for_one_group(sample,pop_mean,diff=diff,alternative='greater')\n",
    "    \n",
    "    if result < alfa and sample_mean > pop_mean+diff:\n",
    "        return 'p-cor'\n",
    "    elif result < alfa and sample_mean <= pop_mean+diff:\n",
    "        return '1t-er'\n",
    "    elif result >= alfa and sample_mean <= pop_mean+diff:\n",
    "        return 'n-cor'\n",
    "    elif result > alfa and sample_mean > pop_mean+diff:\n",
    "        return '2t-er'"
   ]
  },
  {
   "cell_type": "code",
   "execution_count": 479,
   "metadata": {},
   "outputs": [
    {
     "data": {
      "text/plain": [
       "<matplotlib.collections.PathCollection at 0x21a073ec070>"
      ]
     },
     "execution_count": 479,
     "metadata": {},
     "output_type": "execute_result"
    },
    {
     "data": {
      "image/png": "[encoded data removed]",
      "text/plain": [
       "<Figure size 432x288 with 1 Axes>"
      ]
     },
     "metadata": {
      "needs_background": "light"
     },
     "output_type": "display_data"
    }
   ],
   "source": [
    "alfas = []\n",
    "reslt = []\n",
    "for alfa in range(1,101):\n",
    "    a_p_s = []\n",
    "    alfa = alfa*0.01\n",
    "    for i in range(1,1001):\n",
    "        a_p_s.append(podejscie3(0,50,2,alfa,diff = 4))\n",
    "    reslt.append(len([j for j in a_p_s if j == 'p-cor' or j == 'n-cor']))\n",
    "    alfas.append(alfa)\n",
    "plt.scatter(alfas,reslt)\n",
    "#print(a_p_s.count('p-cor'))\n",
    "#print(a_p_s.count('n-cor'))\n",
    "#print(a_p_s.count('1t-er'))\n",
    "#print(a_p_s.count('2t-er'))"
   ]
  },
  {
   "cell_type": "code",
   "execution_count": 13,
   "metadata": {},
   "outputs": [],
   "source": [
    "def dependent_1(sample_size1,sample_mean1,sample_size2,sample_mean2,diff=0):\n",
    "    sample1 = get_normal_sample(sample_size1,sample_mean1,4)\n",
    "    sample2 = get_normal_sample(sample_size2,sample_mean2,4)\n",
    "    mean1 = np.mean(sample1)\n",
    "    mean2 = np.mean(sample2)\n",
    "    \n",
    "    if np.abs(mean1-mean2) > diff and np.abs(sample_mean1-sample_mean2) > diff:\n",
    "        return 'p-cor'\n",
    "    elif np.abs(mean1-mean2) > diff and np.abs(sample_mean1-sample_mean2) <= diff:\n",
    "        return '1t-er'\n",
    "    elif np.abs(mean1-mean2) <= diff and np.abs(sample_mean1-sample_mean2) <= diff:\n",
    "        return 'n-cor'\n",
    "    elif np.abs(mean1-mean2) <= diff and np.abs(sample_mean1-sample_mean2) > diff:\n",
    "        return '2t-er'"
   ]
  },
  {
   "cell_type": "code",
   "execution_count": 20,
   "metadata": {},
   "outputs": [],
   "source": [
    "def dependent_2(sample_size1,sample_mean1,sample_size2,sample_mean2,alfa,diff=0):\n",
    "    sample1 = get_normal_sample(sample_size1,sample_mean1,4)\n",
    "    sample2 = get_normal_sample(sample_size2,sample_mean2,4)\n",
    "    #result = t_test_for_dependent_groups(sample1,sample2, alternative='greater')\n",
    "    \n",
    "    sample1 = np.array(sample1)\n",
    "    sample2 = np.array(sample2)\n",
    "    res = sample1-sample2\n",
    "    \n",
    "    result = t_test_for_dependent_groups(res,diff,diff=0,alternative='greater')\n",
    "    \n",
    "    if result < alfa and np.abs(sample_mean1-sample_mean2) > diff:\n",
    "        return 'p-cor'\n",
    "    elif result < alfa and np.abs(sample_mean1-sample_mean2) <= diff:\n",
    "        return '1t-er'\n",
    "    elif result >= alfa and np.abs(sample_mean1-sample_mean2) <= diff:\n",
    "        return 'n-cor'\n",
    "    elif result > alfa and np.abs(sample_mean1-sample_mean2) > diff:\n",
    "        return '2t-er'"
   ]
  },
  {
   "cell_type": "code",
   "execution_count": 19,
   "metadata": {},
   "outputs": [],
   "source": [
    "def dependent_3(sample_size1,sample_mean1,sample_size2,sample_mean2,alfa,diff=0):\n",
    "    sample1 = get_normal_sample(sample_size1,sample_mean1,4)\n",
    "    sample2 = get_normal_sample(sample_size2,sample_mean2,4)\n",
    "    #result = t_test_for_dependent_groups(sample1,sample2,diff = diff, alternative='greater')\n",
    "    \n",
    "    sample1 = np.array(sample1)\n",
    "    sample2 = np.array(sample2)\n",
    "    res = sample1-sample2\n",
    "    \n",
    "    result = t_test_for_dependent_groups(res,diff,diff=2,alternative='greater')\n",
    "    \n",
    "    if result < alfa and np.abs(sample_mean1-sample_mean2) > diff:\n",
    "        return 'p-cor'\n",
    "    elif result < alfa and np.abs(sample_mean1-sample_mean2) <= diff:\n",
    "        return '1t-er'\n",
    "    elif result >= alfa and np.abs(sample_mean1-sample_mean2) <= diff:\n",
    "        return 'n-cor'\n",
    "    elif result > alfa and np.abs(sample_mean1-sample_mean2) > diff:\n",
    "        return '2t-er'"
   ]
  },
  {
   "cell_type": "code",
   "execution_count": 612,
   "metadata": {},
   "outputs": [
    {
     "name": "stdout",
     "output_type": "stream",
     "text": [
      "10000\n",
      "0\n",
      "0\n",
      "0\n"
     ]
    }
   ],
   "source": [
    "results = []\n",
    "for j in range(10):\n",
    "    for i in range(1000):\n",
    "        results.append(dependent_1(50,18,50,10))\n",
    "print(results.count('p-cor'))\n",
    "print(results.count('n-cor'))\n",
    "print(results.count('1t-er'))\n",
    "print(results.count('2t-er'))"
   ]
  },
  {
   "cell_type": "code",
   "execution_count": 623,
   "metadata": {
    "scrolled": true
   },
   "outputs": [
    {
     "name": "stdout",
     "output_type": "stream",
     "text": [
      "0\n",
      "497\n",
      "503\n",
      "0\n"
     ]
    }
   ],
   "source": [
    "reslts = []\n",
    "for alfa in range(1000):\n",
    "    alfa = alfa*0.001\n",
    "    #for i in range(1000):\n",
    "    reslts.append(dependent_2(50,12,50,10,alfa,diff=2))\n",
    "print(reslts.count('p-cor'))\n",
    "print(reslts.count('n-cor'))\n",
    "print(reslts.count('1t-er'))\n",
    "print(reslts.count('2t-er'))"
   ]
  },
  {
   "cell_type": "code",
   "execution_count": 625,
   "metadata": {},
   "outputs": [
    {
     "name": "stdout",
     "output_type": "stream",
     "text": [
      "511\n",
      "0\n",
      "0\n",
      "489\n"
     ]
    }
   ],
   "source": [
    "a_reslts = []\n",
    "alfas = []\n",
    "for alfa in range(1000):\n",
    "    alfa = alfa*0.001\n",
    "    alfas.append(alfa)\n",
    "    #for i in range(1000):\n",
    "    a_reslts.append(dependent_3(50,14,50,10,alfa,diff=2))\n",
    "print(a_reslts.count('p-cor'))\n",
    "print(a_reslts.count('n-cor'))\n",
    "print(a_reslts.count('1t-er'))\n",
    "print(a_reslts.count('2t-er'))"
   ]
  },
  {
   "cell_type": "code",
   "execution_count": 589,
   "metadata": {},
   "outputs": [
    {
     "data": {
      "text/plain": [
       "<matplotlib.collections.PathCollection at 0x21a07789d30>"
      ]
     },
     "execution_count": 589,
     "metadata": {},
     "output_type": "execute_result"
    },
    {
     "data": {
      "image/png": "[encoded data removed]",
      "text/plain": [
       "<Figure size 432x288 with 2 Axes>"
      ]
     },
     "metadata": {
      "needs_background": "light"
     },
     "output_type": "display_data"
    }
   ],
   "source": [
    "#fig, (ax1, ax2) = plt.subplots(2, sharex=True)\n",
    "#ax1.scatter(alfas,reslts)\n",
    "#ax2.scatter(alfas,a_reslts)\n"
   ]
  },
  {
   "cell_type": "code",
   "execution_count": 16,
   "metadata": {},
   "outputs": [],
   "source": [
    "def independent_1(sample_size1,sample_mean1,sample_size2,sample_mean2,diff=0):\n",
    "    sample1 = get_normal_sample(sample_size1,sample_mean1,4)\n",
    "    sample2 = get_normal_sample(sample_size2,sample_mean2,4)\n",
    "    mean1 = np.mean(sample1)\n",
    "    mean2 = np.mean(sample2)\n",
    "    \n",
    "    if np.abs(mean1-mean2) > diff and np.abs(sample_mean1-sample_mean2) > diff:\n",
    "        return 'p-cor'\n",
    "    elif np.abs(mean1-mean2) > diff and np.abs(sample_mean1-sample_mean2) <= diff:\n",
    "        return '1t-er'\n",
    "    elif np.abs(mean1-mean2) <= diff and np.abs(sample_mean1-sample_mean2) <= diff:\n",
    "        return 'n-cor'\n",
    "    elif np.abs(mean1-mean2) <= diff and np.abs(sample_mean1-sample_mean2) > diff:\n",
    "        return '2t-er'"
   ]
  },
  {
   "cell_type": "code",
   "execution_count": 17,
   "metadata": {},
   "outputs": [],
   "source": [
    "def independent_2(sample_size1,sample_mean1,sample_size2,sample_mean2,alfa,diff=0):\n",
    "    sample1 = get_normal_sample(sample_size1,sample_mean1,4)\n",
    "    sample2 = get_normal_sample(sample_size2,sample_mean2,4)\n",
    "    result = t_test_for_independent_groups(sample1,sample2,diff = 0, alternative='greater')\n",
    "    \n",
    "    #sample1 = np.array(sample1)\n",
    "    #sample2 = np.array(sample2)\n",
    "    #res = sample1-sample2\n",
    "    \n",
    "    #result = t_test_for_one_group(res,diff,diff=2,alternative='greater')\n",
    "    \n",
    "    if result < alfa and np.abs(sample_mean1-sample_mean2) > diff:\n",
    "        return 'p-cor'\n",
    "    elif result < alfa and np.abs(sample_mean1-sample_mean2) <= diff:\n",
    "        return '1t-er'\n",
    "    elif result >= alfa and np.abs(sample_mean1-sample_mean2) <= diff:\n",
    "        return 'n-cor'\n",
    "    elif result > alfa and np.abs(sample_mean1-sample_mean2) > diff:\n",
    "        return '2t-er'"
   ]
  },
  {
   "cell_type": "code",
   "execution_count": 18,
   "metadata": {},
   "outputs": [],
   "source": [
    "def independent_3(sample_size1,sample_mean1,sample_size2,sample_mean2,alfa,diff=0):\n",
    "    sample1 = get_normal_sample(sample_size1,sample_mean1,4)\n",
    "    sample2 = get_normal_sample(sample_size2,sample_mean2,4)\n",
    "    result = t_test_for_independent_groups(sample1,sample2,diff = diff, alternative='greater')\n",
    "    \n",
    "    #sample1 = np.array(sample1)\n",
    "    #sample2 = np.array(sample2)\n",
    "    #res = sample1-sample2\n",
    "    \n",
    "    #result = t_test_for_one_group(res,diff,diff=2,alternative='greater')\n",
    "    \n",
    "    if result < alfa and np.abs(sample_mean1-sample_mean2) > diff:\n",
    "        return 'p-cor'\n",
    "    elif result < alfa and np.abs(sample_mean1-sample_mean2) <= diff:\n",
    "        return '1t-er'\n",
    "    elif result >= alfa and np.abs(sample_mean1-sample_mean2) <= diff:\n",
    "        return 'n-cor'\n",
    "    elif result > alfa and np.abs(sample_mean1-sample_mean2) > diff:\n",
    "        return '2t-er'"
   ]
  },
  {
   "cell_type": "code",
   "execution_count": 644,
   "metadata": {},
   "outputs": [
    {
     "name": "stdout",
     "output_type": "stream",
     "text": [
      "981\n",
      "0\n",
      "0\n",
      "19\n"
     ]
    }
   ],
   "source": [
    "reslts = []\n",
    "for alfa in range(1000):\n",
    "    alfa = alfa*0.001\n",
    "    #for i in range(1000):\n",
    "    reslts.append(independent_2(30,13,30,10,alfa,diff=2))\n",
    "print(reslts.count('p-cor'))\n",
    "print(reslts.count('n-cor'))\n",
    "print(reslts.count('1t-er'))\n",
    "print(reslts.count('2t-er'))"
   ]
  },
  {
   "cell_type": "code",
   "execution_count": 643,
   "metadata": {},
   "outputs": [
    {
     "name": "stdout",
     "output_type": "stream",
     "text": [
      "749\n",
      "0\n",
      "0\n",
      "251\n"
     ]
    }
   ],
   "source": [
    "reslts = []\n",
    "for alfa in range(1000):\n",
    "    alfa = alfa*0.001\n",
    "    #for i in range(1000):\n",
    "    reslts.append(independent_3(30,13,30,10,alfa,diff=2))\n",
    "print(reslts.count('p-cor'))\n",
    "print(reslts.count('n-cor'))\n",
    "print(reslts.count('1t-er'))\n",
    "print(reslts.count('2t-er'))"
   ]
  }
 ],
 "metadata": {
  "kernelspec": {
   "display_name": "Python 3",
   "language": "python",
   "name": "python3"
  },
  "language_info": {
   "codemirror_mode": {
    "name": "ipython",
    "version": 3
   },
   "file_extension": ".py",
   "mimetype": "text/x-python",
   "name": "python",
   "nbconvert_exporter": "python",
   "pygments_lexer": "ipython3",
   "version": "3.8.3"
  }
 },
 "nbformat": 4,
 "nbformat_minor": 4
}
